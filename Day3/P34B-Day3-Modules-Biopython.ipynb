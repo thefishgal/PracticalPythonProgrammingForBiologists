{
  "cells": [
    {
      "cell_type": "markdown",
      "metadata": {
        "id": "AGviCGpfMeF1"
      },
      "source": [
        "# Practical Python Programming for Biologists\n",
        "Author: Dr. Daniel Pass | www.CompassBioinformatics.com\n",
        "\n",
        "---"
      ]
    },
    {
      "cell_type": "markdown",
      "metadata": {
        "id": "C5PP3rlyqT9b"
      },
      "source": [
        "\n",
        "# Using Modules in Python\n",
        "In Python, modules are files containing Python code that can be imported and used in your Python scripts. There are a wide range of built-in modules, as well as third-party modules that can be installed using package managers like pip. You can also build your own to provide a way to organize and reuse code, making it easier to build complex programs, however for now, we'll explore just how to use modules in Python for bioinformatics tasks.\n",
        "\n",
        "We've already used some modules through the week, most notably matplotlib for graphing so hopefully it already makes a little of sense!"
      ]
    },
    {
      "cell_type": "markdown",
      "metadata": {
        "id": "kozoeohWMiQl"
      },
      "source": [
        "## Importing Modules\n",
        "To use a module in Python, you need to import it into your script. There are a few ways to import modules but most simply just using the word import, followed by the name of the module works"
      ]
    },
    {
      "cell_type": "code",
      "execution_count": null,
      "metadata": {
        "id": "U-P2m7oyqT9c"
      },
      "outputs": [],
      "source": [
        "import this"
      ]
    },
    {
      "cell_type": "code",
      "execution_count": null,
      "metadata": {
        "id": "M8hySIE1qT9d"
      },
      "outputs": [],
      "source": [
        "import antigravity"
      ]
    },
    {
      "cell_type": "markdown",
      "metadata": {
        "id": "2DGvBRfOqT9d"
      },
      "source": [
        "\n",
        "Now lets look at something useful! We'll first use math for simplicity, then do some bioinformatics afterwards. You can import the entire module and access its functions, classes, and variables using the module name as a prefix.\n",
        "\n",
        "You can import the entire module and access its functions, classes, and variables using the module name as a prefix."
      ]
    },
    {
      "cell_type": "code",
      "execution_count": null,
      "metadata": {
        "id": "YfGaFfs3LwhR"
      },
      "outputs": [],
      "source": [
        "import math               ## As a Brit it is frustrating writing math instead of maths, but we can't have everything\n",
        "\n",
        "radius = 5\n",
        "area = math.pi * math.pow(radius, 2)      ## pi and pow are specifically from the math module\n",
        "print(\"The area of a circle with radius {} is: {}\".format(radius, area))"
      ]
    },
    {
      "cell_type": "markdown",
      "metadata": {
        "id": "iNGM5sq4NI3t"
      },
      "source": [
        "However that can be dangerous as modules can be really large, and also contain functions that you're unaware of and can clash with your own code.\n",
        "\n",
        "First lets just look how many functions and variables are found in the `math` module:"
      ]
    },
    {
      "cell_type": "code",
      "execution_count": null,
      "metadata": {
        "id": "sdTApJHyqT9d",
        "outputId": "d8e01222-1b2f-4079-8a78-ba59fe7f474c"
      },
      "outputs": [
        {
          "ename": "NameError",
          "evalue": "name 'math' is not defined",
          "output_type": "error",
          "traceback": [
            "\u001b[1;31m---------------------------------------------------------------------------\u001b[0m",
            "\u001b[1;31mNameError\u001b[0m                                 Traceback (most recent call last)",
            "Cell \u001b[1;32mIn[10], line 1\u001b[0m\n\u001b[1;32m----> 1\u001b[0m \u001b[38;5;28mdir\u001b[39m(\u001b[43mmath\u001b[49m)\n",
            "\u001b[1;31mNameError\u001b[0m: name 'math' is not defined"
          ]
        }
      ],
      "source": [
        "dir(math)"
      ]
    },
    {
      "cell_type": "markdown",
      "metadata": {
        "id": "UyaQVK0pqT9e"
      },
      "source": [
        "You're safer either importing just the functions you want, or use your own alias to avoid clashes if you need the whole module for certain."
      ]
    },
    {
      "cell_type": "code",
      "execution_count": null,
      "metadata": {
        "id": "fY-s7tBqNhoX"
      },
      "outputs": [],
      "source": [
        "from math import sqrt, factorial\n",
        "\n",
        "number = 16\n",
        "square_root = sqrt(number)\n",
        "factorial_result = factorial(number)\n",
        "print(\"The square root of {} is: {}\".format(number, square_root))\n",
        "print(\"The factorial of {} is: {}\".format(number, factorial_result))"
      ]
    },
    {
      "cell_type": "markdown",
      "metadata": {
        "id": "HvKePwmuOjxd"
      },
      "source": [
        "Using an alias also just saves on loads of typing! Imagine having to write the first one instead of the second (although as we have used a function here, it is more simple):"
      ]
    },
    {
      "cell_type": "code",
      "execution_count": null,
      "metadata": {
        "id": "5dtYRIm8PKm2"
      },
      "outputs": [],
      "source": [
        "import matplotlib.pyplot\n",
        "\n",
        "def plot_data(x, y):\n",
        "    matplotlib.pyplot.plot(x, y)\n",
        "    matplotlib.pyplot.xlabel(\"How many times you've typed it out\")\n",
        "    matplotlib.pyplot.ylabel(\"Feels\")\n",
        "    matplotlib.pyplot.show()\n",
        "\n",
        "x = [1,2,3,6]\n",
        "y = [\"It's fine\", \"a bit annoying\", \"I hate this\", \"ok I'll use aliases\"]\n",
        "\n",
        "plot_data(x, y)"
      ]
    },
    {
      "cell_type": "markdown",
      "metadata": {
        "id": "7OFMgWRhqT9e"
      },
      "source": [
        "Using the import X as Y is really handy!"
      ]
    },
    {
      "cell_type": "code",
      "execution_count": null,
      "metadata": {
        "id": "sHa4cZ5zQCqW"
      },
      "outputs": [],
      "source": [
        "import matplotlib.pyplot as plt\n",
        "\n",
        "def plot_data(x, y):\n",
        "    plt.plot(x, y)\n",
        "    plt.xlabel('Feels')\n",
        "    plt.ylabel(\"How many times you've done it\")\n",
        "    plt.show()\n",
        "\n",
        "x = [1,2,3,6]\n",
        "y = [\"It's fine\", \"It's fine\",\"It's fine\",\"It's fine\"]\n",
        "\n",
        "plot_data(x, y)"
      ]
    },
    {
      "cell_type": "markdown",
      "metadata": {
        "id": "7D_eZYf7RAIO"
      },
      "source": [
        "# Biopython\n",
        "Biopython is a widely-used Python library for bioinformatics that offers a huge range of tools and modules. (Honestly, it has almost everything in there!). Think back to the work we did loading, parsing, and interpretting simple fasta files. Biopython has built in class objects that already know what different formats should look like, and so gives you easy access.\n",
        "\n",
        "That's just one advantage, but it also has lots of common and complex functions and methods to ease your coding requirements too.\n",
        "\n",
        "Here's an example of using Biopython's Seq module to perform a simple sequence analysis:"
      ]
    },
    {
      "cell_type": "markdown",
      "metadata": {
        "id": "BZOaYyLbwBH7"
      },
      "source": [
        "## Sequence Manipulation"
      ]
    },
    {
      "cell_type": "code",
      "execution_count": 2,
      "metadata": {
        "colab": {
          "base_uri": "https://localhost:8080/"
        },
        "id": "8B6r3LmxRDft",
        "outputId": "70f195f2-22df-4312-f0f2-10f294e8d65e"
      },
      "outputs": [
        {
          "output_type": "stream",
          "name": "stdout",
          "text": [
            "ATGCAGTACGTC\n",
            "<class 'Bio.Seq.Seq'>\n"
          ]
        }
      ],
      "source": [
        "# Remember to only import the functions you're interested in\n",
        "from Bio.Seq import Seq\n",
        "\n",
        "# Create a DNA sequence\n",
        "sequence = Seq(\"ATGCAGTACGTC\")\n",
        "\n",
        "print(sequence)\n",
        "print(type(sequence))\n"
      ]
    },
    {
      "cell_type": "markdown",
      "metadata": {
        "id": "prOZgHvwSFOf"
      },
      "source": [
        "Oh no! The module isn't installed! 99.9% of the time it's really easy to install a python module using pip (python installation program). On your own computer or server you'd type this command without the ```!``` but that is required on collab/Jupyter to tell it that you're using a bash command, not python.\n",
        "\n",
        "**Once it's intalled try and run the command above again.**"
      ]
    },
    {
      "cell_type": "code",
      "execution_count": 1,
      "metadata": {
        "colab": {
          "base_uri": "https://localhost:8080/"
        },
        "id": "chTidw8vStbv",
        "outputId": "bf25bc3c-397b-4de3-db0f-423ed6f34338"
      },
      "outputs": [
        {
          "output_type": "stream",
          "name": "stdout",
          "text": [
            "Collecting biopython\n",
            "  Downloading biopython-1.85-cp312-cp312-manylinux_2_17_x86_64.manylinux2014_x86_64.whl.metadata (13 kB)\n",
            "Requirement already satisfied: numpy in /usr/local/lib/python3.12/dist-packages (from biopython) (2.0.2)\n",
            "Downloading biopython-1.85-cp312-cp312-manylinux_2_17_x86_64.manylinux2014_x86_64.whl (3.3 MB)\n",
            "\u001b[2K   \u001b[90m━━━━━━━━━━━━━━━━━━━━━━━━━━━━━━━━━━━━━━━━\u001b[0m \u001b[32m3.3/3.3 MB\u001b[0m \u001b[31m51.7 MB/s\u001b[0m eta \u001b[36m0:00:00\u001b[0m\n",
            "\u001b[?25hInstalling collected packages: biopython\n",
            "Successfully installed biopython-1.85\n"
          ]
        }
      ],
      "source": [
        "!pip install biopython"
      ]
    },
    {
      "cell_type": "markdown",
      "metadata": {
        "id": "vf-mjyKTyppE"
      },
      "source": [
        "One thing to note here. While the ```print(sequence)``` command outputs the sequence, we are not actually looking at a string. The ```type()``` shows us that it is a class (more on what a class is later). However, it has been defined that when asked to print, it will output the sequence.\n",
        "\n",
        "First lets look at using the library.\n",
        "\n",
        "The Biopython Seq module has various built in functions for manipulating sequences. Looking back to the exercise to complement and reverse complement a string of DNA, this is much simpler!"
      ]
    },
    {
      "cell_type": "code",
      "execution_count": 3,
      "metadata": {
        "colab": {
          "base_uri": "https://localhost:8080/"
        },
        "id": "KC9o87fnyWja",
        "outputId": "10238019-b06e-4206-ccaa-7e2130a6d439"
      },
      "outputs": [
        {
          "output_type": "stream",
          "name": "stdout",
          "text": [
            "Reverse complement: GACGTACTGCAT\n"
          ]
        }
      ],
      "source": [
        "# Print the reverse complement\n",
        "print(\"Reverse complement:\", sequence.reverse_complement())"
      ]
    },
    {
      "cell_type": "markdown",
      "metadata": {
        "id": "9kV-dKDo0jIc"
      },
      "source": [
        "Compare what we've just done back to methods like ```.count()```. The ```.reverse_complement()``` method works in the same way, by having functions and definitions hidden in the background. It's just that this new method came from inside a 3rd party library rather than built into python itself.\n",
        "\n",
        "Why build our own complement and reverse_complement functions, when a library can do it for us??\n",
        "\n",
        "What functions are included in our module? Often it's easier to use Google or the official documentation, but you can also use the ```dir()``` function to print them:"
      ]
    },
    {
      "cell_type": "code",
      "execution_count": 4,
      "metadata": {
        "id": "D-MMkI831Ejk",
        "colab": {
          "base_uri": "https://localhost:8080/"
        },
        "outputId": "dd832cda-02f3-4e0e-c2ea-cb1324e48604"
      },
      "outputs": [
        {
          "output_type": "execute_result",
          "data": {
            "text/plain": [
              "['__abstractmethods__',\n",
              " '__add__',\n",
              " '__annotations__',\n",
              " '__array_ufunc__',\n",
              " '__bytes__',\n",
              " '__class__',\n",
              " '__contains__',\n",
              " '__delattr__',\n",
              " '__dict__',\n",
              " '__dir__',\n",
              " '__doc__',\n",
              " '__eq__',\n",
              " '__format__',\n",
              " '__ge__',\n",
              " '__getattribute__',\n",
              " '__getitem__',\n",
              " '__getstate__',\n",
              " '__gt__',\n",
              " '__hash__',\n",
              " '__imul__',\n",
              " '__init__',\n",
              " '__init_subclass__',\n",
              " '__iter__',\n",
              " '__le__',\n",
              " '__len__',\n",
              " '__lt__',\n",
              " '__module__',\n",
              " '__mul__',\n",
              " '__ne__',\n",
              " '__new__',\n",
              " '__radd__',\n",
              " '__reduce__',\n",
              " '__reduce_ex__',\n",
              " '__repr__',\n",
              " '__rmul__',\n",
              " '__setattr__',\n",
              " '__sizeof__',\n",
              " '__slots__',\n",
              " '__str__',\n",
              " '__subclasshook__',\n",
              " '__weakref__',\n",
              " '_abc_impl',\n",
              " '_data',\n",
              " 'back_transcribe',\n",
              " 'complement',\n",
              " 'complement_rna',\n",
              " 'count',\n",
              " 'count_overlap',\n",
              " 'defined',\n",
              " 'defined_ranges',\n",
              " 'endswith',\n",
              " 'find',\n",
              " 'index',\n",
              " 'islower',\n",
              " 'isupper',\n",
              " 'join',\n",
              " 'lower',\n",
              " 'lstrip',\n",
              " 'removeprefix',\n",
              " 'removesuffix',\n",
              " 'replace',\n",
              " 'reverse_complement',\n",
              " 'reverse_complement_rna',\n",
              " 'rfind',\n",
              " 'rindex',\n",
              " 'rsplit',\n",
              " 'rstrip',\n",
              " 'search',\n",
              " 'split',\n",
              " 'startswith',\n",
              " 'strip',\n",
              " 'transcribe',\n",
              " 'translate',\n",
              " 'upper']"
            ]
          },
          "metadata": {},
          "execution_count": 4
        }
      ],
      "source": [
        "dir(Seq)"
      ]
    },
    {
      "cell_type": "markdown",
      "metadata": {
        "id": "xGcMwL78qT9f"
      },
      "source": [
        "### Exercise\n",
        "\n",
        "1. Read the insulin sequence into a new biopython sequence object\n",
        "2. Transcribe this DNA sequence into RNA, and then into the amino acid sequence using biopython seq methods (```.transcribe()``` is DNA -> RNA, and ```.translate()``` is DNA/RNA -> amino acids).\n",
        "3. Extension: Print the Amino acid sequence with spacing so that `1 aa -> 3 RNA` so that it aligns below the RNA output\n",
        "\n",
        "i.e.:\n",
        "\n",
        "```\n",
        "....CCAGGCUUGAGCCAGGGU....\n",
        "....-Q--A--*--A--R--V-....\n",
        "```"
      ]
    },
    {
      "cell_type": "code",
      "execution_count": 14,
      "metadata": {
        "colab": {
          "base_uri": "https://localhost:8080/"
        },
        "id": "_fzm95vAqT9f",
        "outputId": "2988e575-8382-4e5d-b44f-fb82e78368ee"
      },
      "outputs": [
        {
          "output_type": "stream",
          "name": "stdout",
          "text": [
            "CTCGAGGGGCCTAGACATTGCCCTCCAGAGAGAGCACCCAACACCCTCCAGGCTTGAGCCAGGGTGTCCCCTTCCTACCTTGGAGAGAGCAGCCCCAGGGCATCCTGCAGGGGGTGCTGGGACACCAGCTGGCCTTCAAGGTCTCTGCCTCCCTCCAGCCACCCCACTACACGCTGCTGGGATCCTGGATCTCAGCTCCCTGGCCGACAACACTGGCAAACTCCTACTCATCCACGAAGGCCCTCCTGGGCATGGTGGTCCTTCCCAGCCTGGCAGTCTGTTCCTCACACACCTTGTCATGTCCTCTCCAGCTGCCGGGCCTCAGAGCACTGTGGCGTCCTGGGGCAGCCACCGCAT\n",
            "CUCGAGGGGCCUAGACAUUGCCCUCCAGAGAGAGCACCCAACACCCUCCAGGCUUGAGCCAGGGUGUCCCCUUCCUACCUUGGAGAGAGCAGCCCCAGGGCAUCCUGCAGGGGGUGCUGGGACACCAGCUGGCCUUCAAGGUCUCUGCCUCCCUCCAGCCACCCCACUACACGCUGCUGGGAUCCUGGAUCUCAGCUCCCUGGCCGACAACACUGGCAAACUCCUACUCAUCCACGAAGGCCCUCCUGGGCAUGGUGGUCCUUCCCAGCCUGGCAGUCUGUUCCUCACACACCUUGUCAUGUCCUCUCCAGCUGCCGGGCCUCAGAGCACUGUGGCGUCCUGGGGCAGCCACCGCAU\n",
            "CUCGAGGGGCCUAGACAUUGCCCUCCAGAGAGAGCACCCAACACCCUCCAGGCUUGAGCCAGGGUGUCCCCUUCCUACCUUGGAGAGAGCAGCCCCAGGGCAUCCUGCAGGGGGUGCUGGGACACCAGCUGGCCUUCAAGGUCUCUGCCUCCCUCCAGCCACCCCACUACACGCUGCUGGGAUCCUGGAUCUCAGCUCCCUGGCCGACAACACUGGCAAACUCCUACUCAUCCACGAAGGCCCUCCUGGGCAUGGUGGUCCUUCCCAGCCUGGCAGUCUGUUCCUCACACACCUUGUCAUGUCCUCUCCAGCUGCCGGGCCUCAGAGCACUGUGGCGUCCUGGGGCAGCCACCGCAU\n",
            "LEGPRHCPPERAPNTLQA*ARVSPSYLGESSPRASCRGCWDTSWPSRSLPPSSHPTTRCWDPGSQLPGRQHWQTPTHPRRPSWAWWSFPAWQSVPHTPCHVLSSCRASEHCGVLGQPPH\n"
          ]
        }
      ],
      "source": [
        "insulin = \"\"\"CTCGAGGGGCCTAGACATTGCCCTCCAGAGAGAGCACCCAACACCCTCCAGGCTTGA\n",
        "GCCAGGGTGTCCCCTTCCTACCTTGGAGAGAGCAGCCCCAGGGCATCCTGCAGGGGGTGC\n",
        "TGGGACACCAGCTGGCCTTCAAGGTCTCTGCCTCCCTCCAGCCACCCCACTACACGCTGC\n",
        "TGGGATCCTGGATCTCAGCTCCCTGGCCGACAACACTGGCAAACTCCTACTCATCCACGA\n",
        "AGGCCCTCCTGGGCATGGTGGTCCTTCCCAGCCTGGCAGTCTGTTCCTCACACACCTTGT\n",
        "CATGTCCTCTCCAGCTGCCGGGCCTCAGAGCACTGTGGCGTCCTGGGGCAGCCACCGCAT\"\"\"\n",
        "\n",
        "# Remember to import the module, Seq is the whole module, I just imported the two specific methods\n",
        "from Bio.Seq import transcribe\n",
        "from Bio.Seq import translate\n",
        "\n",
        "ins = Seq(insulin.replace('\\n',''))\n",
        "print(ins)\n",
        "print(ins.transcribe())\n",
        "ins_rna = ins.transcribe()\n",
        "print(ins_rna)\n",
        "print(ins_rna.translate())\n",
        "\n",
        "for aa in ins_aa:"
      ]
    },
    {
      "cell_type": "markdown",
      "metadata": {
        "id": "WBmmlNgKS_eu"
      },
      "source": [
        "---\n",
        "\n",
        "## Bioinformatic file formats with Biopython\n",
        "\n",
        "When we have worked with files before it has been using them in the context of plain text and we format the input/output in our own way. That involved saving header lines separately, and using with and while loops.\n",
        "\n",
        "Biopython can help us make this easier because it already understands what different bioinformatic formats should look like.\n",
        "\n",
        "Here let's read in a fasta file containing a range of CO1 sequences from fungi. Note how we now automatically have (at least) two elements: the description, and the sequence.\n",
        "\n",
        "Using the SeqIO function ```.parse()``` and specifying \"fasta\" format, it does all the hard work for us."
      ]
    },
    {
      "cell_type": "code",
      "execution_count": null,
      "metadata": {
        "id": "YZ4YN3gLTHSu"
      },
      "outputs": [],
      "source": [
        "from Bio import SeqIO, Seq\n",
        "\n",
        "count = 0\n",
        "for seq_record in SeqIO.parse(\"/content/co1_sequences.fasta\", \"fasta\"):\n",
        "\n",
        "    # Print the header, sequence, and length of each record as we go through the file\n",
        "    print(seq_record.description)\n",
        "    print(seq_record.seq)\n",
        "    print(\"Sequence length:\", len(seq_record))\n",
        "    print()\n",
        "\n",
        "    count += 1\n",
        "\n",
        "print(\"============\")\n",
        "print(f\"Imported {count} sequences\")"
      ]
    },
    {
      "cell_type": "markdown",
      "metadata": {
        "id": "zvZ14QdSqT9g"
      },
      "source": [
        "Above we're just printing the lines as they come in. Now lets just only select just some records from the input file (if the description contains PA22), and keep them in their own list."
      ]
    },
    {
      "cell_type": "code",
      "execution_count": null,
      "metadata": {
        "id": "9wqMOmYRqT9g"
      },
      "outputs": [],
      "source": [
        "from Bio import SeqIO, Seq\n",
        "\n",
        "PA22_co1s = []\n",
        "for seq_record in SeqIO.parse(\"/content/co1_sequences.fasta\", \"fasta\"):\n",
        "    if \"PA22\" in seq_record.description:\n",
        "        PA22_co1s.append(seq_record)"
      ]
    },
    {
      "cell_type": "markdown",
      "metadata": {
        "id": "QffQca8NqT9g"
      },
      "source": [
        "Then lets use the ```.translate()``` method again to convert the sequence to amino acid but this time specify the codon coding table."
      ]
    },
    {
      "cell_type": "code",
      "execution_count": null,
      "metadata": {
        "id": "K8XHIO0vqT9g"
      },
      "outputs": [],
      "source": [
        "for seq_record in PA22_co1s:\n",
        "    # Print the header, sequence, and length of each record as we go through the file\n",
        "    print(seq_record.description)\n",
        "\n",
        "    # Use the .translate method to get the amino acid sequence (using mitochondira coding table)\n",
        "    new_aa = seq_record.seq.translate(table=2)\n",
        "    print(new_aa)\n",
        "    print(\"\")"
      ]
    },
    {
      "cell_type": "markdown",
      "metadata": {
        "id": "bOM0c51TqT9h"
      },
      "source": [
        "What exactly is a SeqRecord? It's its own defined ***class*** (More on that in the supplementary section)"
      ]
    },
    {
      "cell_type": "code",
      "execution_count": null,
      "metadata": {
        "id": "-hzi8W7ZqT9h"
      },
      "outputs": [],
      "source": [
        "type(seq_record)"
      ]
    },
    {
      "cell_type": "markdown",
      "metadata": {
        "id": "AJF6cDgIS8me"
      },
      "source": [
        "### Exercise - Working with SeqIO and seq_record objects\n",
        "\n",
        "**Objective:** Using the CO1_sequences file select sequences that encode Phenylalenine (F) in their first codon and output the first 30 DNA base pairs for each.\n",
        "\n",
        "Based on your confidence, either:\n",
        "- Create an empty list, add each DNA sequence to it and output the relevant DNA sequences\n",
        "- Create a dictionary where the ID is the key and the aa sequence is the value (the ID is the header part before the first whitespace, and can be accessed with ```seq_record.id```).\n",
        "\n",
        "Steps:\n",
        "1. Using SeqIO.parse read in the co1_sequences file\n",
        "2. Translate each sequence into amino acid with ```.translate()``` (remember it's mitochondria so use table=2!)\n",
        "3. Test if the sequence startswith Phenylalenine (F), and if True then output the first 30 bp of the DNA sequence\n",
        "\n",
        "**Remember you are reading in DNA, and want to output DNA. But to test the amino acid!**\n",
        "\n",
        "**Extension:** Output the relevant sequences to a file named Phenylalenine_coding_30bp.fasta\n",
        "\n",
        "Note: Lets assume that we want the rest of the data later in our code, so complete the read data loop first, and then do the filtering in a second loop."
      ]
    },
    {
      "cell_type": "code",
      "execution_count": null,
      "metadata": {
        "id": "TIOJND-GkUlB"
      },
      "outputs": [],
      "source": [
        "## Write here\n",
        "from Bio import SeqIO, Seq\n"
      ]
    },
    {
      "cell_type": "markdown",
      "metadata": {
        "id": "0wK9KHelwNzb"
      },
      "source": [
        "---\n",
        "\n",
        "## Embl / GenBank formats\n",
        "\n",
        "Lets look at a different type of bioinformatic data type: an EMBL file (It's similar to a GenBank file format if you have seen that before, just European!). Open the .embl text file and explore what data is in there before doing the next step. Quite a lot right?!\n",
        "\n",
        "Reading the data with SeqIO means that it will take the plain text file and assign the data to known variable names and methods.\n",
        "\n",
        "We can loop through it as we did above (although this file has just one record in it), or alternatively we can use the \"iterator\" format. This means having your code only move on through the loop when you explicitly use ```next()```. Not as usefull most of the time, but an alternative method."
      ]
    },
    {
      "cell_type": "code",
      "execution_count": null,
      "metadata": {
        "id": "Et_jFdcDxbf7"
      },
      "outputs": [],
      "source": [
        "from Bio import SeqIO\n",
        "\n",
        "# Note the scond parameter is the file format\n",
        "record_iter = SeqIO.parse(\"/content/am181037.embl\", \"embl\")\n",
        "\n",
        "first_record = next(record_iter)\n",
        "print(first_record)"
      ]
    },
    {
      "cell_type": "markdown",
      "metadata": {
        "id": "fSFIn38BqT9h"
      },
      "source": [
        "It also contains the DNA sequence object too of course!"
      ]
    },
    {
      "cell_type": "code",
      "execution_count": null,
      "metadata": {
        "id": "b0vl212bqT9o"
      },
      "outputs": [],
      "source": [
        "print(first_record.seq)\n",
        "print(len(first_record.seq))"
      ]
    },
    {
      "cell_type": "markdown",
      "metadata": {
        "id": "sxb7ZcmN5T_0"
      },
      "source": [
        "That's just the plain text that you get if you open it usually and also hides the list of features. Let's do something computational.\n",
        "\n",
        "First lets look at some of the data that is in our new object:"
      ]
    },
    {
      "cell_type": "code",
      "execution_count": null,
      "metadata": {
        "id": "sYDjHi3b0TUr"
      },
      "outputs": [],
      "source": [
        "## Access annotations\n",
        "print(first_record.annotations[\"organism\"])\n",
        "print(first_record.annotations[\"taxonomy\"])"
      ]
    },
    {
      "cell_type": "markdown",
      "metadata": {
        "id": "wrgmvArVqT9o"
      },
      "source": [
        "We can use a loop to look through the full list of features"
      ]
    },
    {
      "cell_type": "code",
      "execution_count": null,
      "metadata": {
        "id": "rKdaP1U8ksyt"
      },
      "outputs": [],
      "source": [
        "# Features is the term for all genes, coding sequences trna's sequence regions\n",
        "for feature in first_record.features:\n",
        "  print(\"Type is:\", feature.type, \"\\tQualifiers are:\", feature.qualifiers)"
      ]
    },
    {
      "cell_type": "markdown",
      "metadata": {
        "id": "nbmv-4EMk6hm"
      },
      "source": [
        "The big question now is what to do with all this information!"
      ]
    },
    {
      "cell_type": "markdown",
      "metadata": {
        "id": "xRI58FNx9WUc"
      },
      "source": [
        "### Exercise: data filter\n",
        "\n",
        "**Objective:** Print the gene name and coding sequence for each gene feature (A gene is defined by it's ***type*** being \"CDS\").\n",
        "\n",
        "1. First runthe code as written to see what data is contained in `features`\n",
        "2. Print only features where `type` == \"CDS\" (aka a gene)\n",
        "3. Use the ```location.start``` and ```location.end``` parameters to print the co-ordinates in the genome where each gene starts and stops\n",
        "4. In an embl file you (usually) have the full genome sequence in `record.seq` (just like with a simple fasta file or what we saw above).\n",
        "    - Using the co-ordinates in step 3, print the gene sequences for each CDS feature!\n",
        "    - Remeber how you splice a string with `string[1:100]`!\n",
        "5. Print the gene name along with the sequence. This is stored in `feature.qualifiers.get('gene')`\n",
        "\n",
        "Note: `feature.qualifiers.get('gene')` returns a list of one item frustratingly. You can get just the element alone with `feature.qualifiers.get('gene')[0]`\n",
        "\n",
        "Biopython parameters can be pretty complicated and need some time with the manual, so here's some useful commands you'll need:\n",
        "\n",
        "```\n",
        "- feature.type\n",
        "- feature.qualifiers\n",
        "- feature.location.start / feature.location.end\n",
        "```"
      ]
    },
    {
      "cell_type": "code",
      "execution_count": null,
      "metadata": {
        "id": "OgAC7HoN7i8T"
      },
      "outputs": [],
      "source": [
        "from Bio import SeqIO\n",
        "\n",
        "# Read the data in\n",
        "record_iter = SeqIO.parse(\"/content/am181037.embl\", \"embl\")\n",
        "record = next(record_iter)\n",
        "\n",
        "mito_genes = {}\n",
        "\n",
        "for feature in record.features:\n",
        "    print(feature)\n"
      ]
    },
    {
      "cell_type": "markdown",
      "metadata": {
        "id": "GpvF2AYvqT9o"
      },
      "source": [
        "#### !!!Before we go on to the next section:\n",
        "Add a line to output your genes and sequences to a dictionary, as we'll want to come back to it, with a line such as: ```mito_genes[geneID] = feature_seq```"
      ]
    },
    {
      "cell_type": "markdown",
      "metadata": {
        "id": "0iSBT6Lll8WZ"
      },
      "source": [
        "---\n",
        "\n",
        "## Writing to defined file formats\n",
        "\n",
        "We can also use Biopython to write out our sequences, saving them to a file in the correct format, rather than defining it ourselves. That'll save lots of effort!\n",
        "\n",
        "Lets output our new extracted sequences with a new header into a new file by first putting them into a list, and then saving that.\n",
        "\n",
        "Firstly we will use the SeqRecord module from the Biopython Library to turn our sequences into SeqRecords:"
      ]
    },
    {
      "cell_type": "code",
      "execution_count": null,
      "metadata": {
        "id": "Jo8cqKpymKgA"
      },
      "outputs": [],
      "source": [
        "from Bio.SeqRecord import SeqRecord\n",
        "\n",
        "data_to_write = []\n",
        "\n",
        "# Using the dictionary from the last exercise\n",
        "for id, extracted_seq in mito_genes.items():\n",
        "\n",
        "    # Create a SeqRecord from our dictionary of data\n",
        "    record = SeqRecord(extracted_seq, id)\n",
        "\n",
        "    # Add it to a list\n",
        "    data_to_write.append(record)\n",
        "\n",
        "print(data_to_write)"
      ]
    },
    {
      "cell_type": "markdown",
      "metadata": {
        "id": "UFUamVMfqT9o"
      },
      "source": [
        "And now using the normal output format combined with the ```SeqIO.write()``` function we can output it.\n",
        "\n",
        "For a fasta file it requires the format: `sequence, id, description`"
      ]
    },
    {
      "cell_type": "code",
      "execution_count": null,
      "metadata": {
        "id": "d5I2z_5yqT9o"
      },
      "outputs": [],
      "source": [
        "from Bio import SeqIO\n",
        "\n",
        "with open(\"my_extracted_MT_seqs.fna\", 'w') as outputFile:\n",
        "  # Write the list to a file, specifying fasta format\n",
        "  SeqIO.write(data_to_write, outputFile, \"fasta\")"
      ]
    },
    {
      "cell_type": "markdown",
      "metadata": {
        "id": "r7knoWeQqT9p"
      },
      "source": [
        "<details>\n",
        "<summary>Input for this section if previous section not completed</summary>\n",
        "\n",
        "```\n",
        "from Bio import SeqIO\n",
        "mito_genes = {}\n",
        "\n",
        "# Read the data in\n",
        "record_iter = SeqIO.parse(\"/content/am181037.embl\", \"embl\")\n",
        "first_record = next(record_iter)\n",
        "\n",
        "for feature in first_record.features:\n",
        "    #print(feature)\n",
        "\n",
        "    if feature.type == \"CDS\":\n",
        "        start = feature.location.start\n",
        "        end = feature.location.end\n",
        "        geneID = feature.qualifiers.get('gene')[0]\n",
        "        seqExtrct = first_record.seq[start:end]\n",
        "\n",
        "        mito_genes[geneID] = seqExtrct\n",
        "```\n",
        "\n",
        "</details>"
      ]
    },
    {
      "cell_type": "markdown",
      "metadata": {
        "id": "_hn79ClCTRd2"
      },
      "source": [
        "---\n",
        "\n",
        "Okay. That was a lot! It can get quite complex when dealing with complex third party modules as we don't know all of their logic when creating functions, and it can become really deep with heirarchies of data. Lets keep it simple now and look at a few other cool features of biopython.\n",
        "\n",
        "## Sequence Alignment\n",
        "\n",
        "Biopython provides functionality for sequence alignment, allowing you to perform pairwise and multiple sequence alignments. The Bio.Align module offers algorithms such as Needleman-Wunsch and Smith-Waterman for global and local alignments. It also supports accessing alignment scores, sequences, and alignment visualization."
      ]
    },
    {
      "cell_type": "code",
      "execution_count": null,
      "metadata": {
        "colab": {
          "base_uri": "https://localhost:8080/"
        },
        "id": "Bs_OvKSLTBvn",
        "outputId": "1071d2d9-9287-46ad-828b-d450d19de889"
      },
      "outputs": [
        {
          "name": "stdout",
          "output_type": "stream",
          "text": [
            "alignment score: 29.0\n",
            "target            0 TATGCTGTACGTC-GGG-ATA-CACACTGTGACTGCA 34\n",
            "                  0 -|||||-||||||-|||-|-|-|||||||--|||||| 37\n",
            "query             0 -ATGCT-TACGTCAGGGGA-AACACACTG--ACTGCA 32\n",
            "\n",
            "alignment score: 29.0\n",
            "target            0 TATGCTGTACGTC-GG-GATA-CACACTGTGACTGCA 34\n",
            "                  0 -|||||-||||||-||-||-|-|||||||--|||||| 37\n",
            "query             0 -ATGCT-TACGTCAGGGGA-AACACACTG--ACTGCA 32\n",
            "\n",
            "alignment score: 29.0\n",
            "target            0 TATGCTGTACGTC-G-GGATA-CACACTGTGACTGCA 34\n",
            "                  0 -|||||-||||||-|-|||-|-|||||||--|||||| 37\n",
            "query             0 -ATGCT-TACGTCAGGGGA-AACACACTG--ACTGCA 32\n",
            "\n",
            "alignment score: 29.0\n",
            "target            0 TATGCTGTACGTC--GGGATA-CACACTGTGACTGCA 34\n",
            "                  0 -|||||-||||||--||||-|-|||||||--|||||| 37\n",
            "query             0 -ATGCT-TACGTCAGGGGA-AACACACTG--ACTGCA 32\n",
            "\n",
            "alignment score: 29.0\n",
            "target            0 TATGCTGTACGTC-GGG-AT-ACACACTGTGACTGCA 34\n",
            "                  0 -|||||-||||||-|||-|--||||||||--|||||| 37\n",
            "query             0 -ATGCT-TACGTCAGGGGA-AACACACTG--ACTGCA 32\n",
            "\n",
            "alignment score: 29.0\n",
            "target            0 TATGCTGTACGTC-GG-GAT-ACACACTGTGACTGCA 34\n",
            "                  0 -|||||-||||||-||-||--||||||||--|||||| 37\n",
            "query             0 -ATGCT-TACGTCAGGGGA-AACACACTG--ACTGCA 32\n",
            "\n",
            "alignment score: 29.0\n",
            "target            0 TATGCTGTACGTC-G-GGAT-ACACACTGTGACTGCA 34\n",
            "                  0 -|||||-||||||-|-|||--||||||||--|||||| 37\n",
            "query             0 -ATGCT-TACGTCAGGGGA-AACACACTG--ACTGCA 32\n",
            "\n",
            "alignment score: 29.0\n",
            "target            0 TATGCTGTACGTC--GGGAT-ACACACTGTGACTGCA 34\n",
            "                  0 -|||||-||||||--||||--||||||||--|||||| 37\n",
            "query             0 -ATGCT-TACGTCAGGGGA-AACACACTG--ACTGCA 32\n",
            "\n",
            "alignment score: 29.0\n",
            "target            0 TATGCTGTACGTC-GGG-A-TACACACTGTGACTGCA 34\n",
            "                  0 -|||||-||||||-|||-|--||||||||--|||||| 37\n",
            "query             0 -ATGCT-TACGTCAGGGGAA-ACACACTG--ACTGCA 32\n",
            "\n",
            "alignment score: 29.0\n",
            "target            0 TATGCTGTACGTC-GG-GA-TACACACTGTGACTGCA 34\n",
            "                  0 -|||||-||||||-||-||--||||||||--|||||| 37\n",
            "query             0 -ATGCT-TACGTCAGGGGAA-ACACACTG--ACTGCA 32\n",
            "\n",
            "alignment score: 29.0\n",
            "target            0 TATGCTGTACGTC-G-GGA-TACACACTGTGACTGCA 34\n",
            "                  0 -|||||-||||||-|-|||--||||||||--|||||| 37\n",
            "query             0 -ATGCT-TACGTCAGGGGAA-ACACACTG--ACTGCA 32\n",
            "\n",
            "alignment score: 29.0\n",
            "target            0 TATGCTGTACGTC--GGGA-TACACACTGTGACTGCA 34\n",
            "                  0 -|||||-||||||--||||--||||||||--|||||| 37\n",
            "query             0 -ATGCT-TACGTCAGGGGAA-ACACACTG--ACTGCA 32\n",
            "\n",
            "alignment score: 29.0\n",
            "target            0 TATGCTGTACGTC-GGG--ATACACACTGTGACTGCA 34\n",
            "                  0 -|||||-||||||-|||--|-||||||||--|||||| 37\n",
            "query             0 -ATGCT-TACGTCAGGGGAA-ACACACTG--ACTGCA 32\n",
            "\n",
            "alignment score: 29.0\n",
            "target            0 TATGCTGTACGTC-GG-G-ATACACACTGTGACTGCA 34\n",
            "                  0 -|||||-||||||-||-|-|-||||||||--|||||| 37\n",
            "query             0 -ATGCT-TACGTCAGGGGAA-ACACACTG--ACTGCA 32\n",
            "\n",
            "alignment score: 29.0\n",
            "target            0 TATGCTGTACGTC-G-GG-ATACACACTGTGACTGCA 34\n",
            "                  0 -|||||-||||||-|-||-|-||||||||--|||||| 37\n",
            "query             0 -ATGCT-TACGTCAGGGGAA-ACACACTG--ACTGCA 32\n",
            "\n",
            "alignment score: 29.0\n",
            "target            0 TATGCTGTACGTC--GGG-ATACACACTGTGACTGCA 34\n",
            "                  0 -|||||-||||||--|||-|-||||||||--|||||| 37\n",
            "query             0 -ATGCT-TACGTCAGGGGAA-ACACACTG--ACTGCA 32\n",
            "\n",
            "alignment score: 29.0\n",
            "target            0 TATGCTGTACGTC-GGG-ATACACACTGTGACTGCA 34\n",
            "                  0 -|||||-||||||-|||-|.||||||||--|||||| 36\n",
            "query             0 -ATGCT-TACGTCAGGGGAAACACACTG--ACTGCA 32\n",
            "\n",
            "alignment score: 29.0\n",
            "target            0 TATGCTGTACGTC-GG-GATACACACTGTGACTGCA 34\n",
            "                  0 -|||||-||||||-||-||.||||||||--|||||| 36\n",
            "query             0 -ATGCT-TACGTCAGGGGAAACACACTG--ACTGCA 32\n",
            "\n",
            "alignment score: 29.0\n",
            "target            0 TATGCTGTACGTC-G-GGATACACACTGTGACTGCA 34\n",
            "                  0 -|||||-||||||-|-|||.||||||||--|||||| 36\n",
            "query             0 -ATGCT-TACGTCAGGGGAAACACACTG--ACTGCA 32\n",
            "\n",
            "alignment score: 29.0\n",
            "target            0 TATGCTGTACGTC--GGGATACACACTGTGACTGCA 34\n",
            "                  0 -|||||-||||||--||||.||||||||--|||||| 36\n",
            "query             0 -ATGCT-TACGTCAGGGGAAACACACTG--ACTGCA 32\n",
            "\n",
            "alignment score: 29.0\n",
            "target            0 TATGCTGTACGTC-GGG-ATA-CACACTGTGACTGCA 34\n",
            "                  0 -|||||-||||||-|||-|-|-||||||--||||||| 37\n",
            "query             0 -ATGCT-TACGTCAGGGGA-AACACACT--GACTGCA 32\n",
            "\n",
            "alignment score: 29.0\n",
            "target            0 TATGCTGTACGTC-GG-GATA-CACACTGTGACTGCA 34\n",
            "                  0 -|||||-||||||-||-||-|-||||||--||||||| 37\n",
            "query             0 -ATGCT-TACGTCAGGGGA-AACACACT--GACTGCA 32\n",
            "\n",
            "alignment score: 29.0\n",
            "target            0 TATGCTGTACGTC-G-GGATA-CACACTGTGACTGCA 34\n",
            "                  0 -|||||-||||||-|-|||-|-||||||--||||||| 37\n",
            "query             0 -ATGCT-TACGTCAGGGGA-AACACACT--GACTGCA 32\n",
            "\n",
            "alignment score: 29.0\n",
            "target            0 TATGCTGTACGTC--GGGATA-CACACTGTGACTGCA 34\n",
            "                  0 -|||||-||||||--||||-|-||||||--||||||| 37\n",
            "query             0 -ATGCT-TACGTCAGGGGA-AACACACT--GACTGCA 32\n",
            "\n",
            "alignment score: 29.0\n",
            "target            0 TATGCTGTACGTC-GGG-AT-ACACACTGTGACTGCA 34\n",
            "                  0 -|||||-||||||-|||-|--|||||||--||||||| 37\n",
            "query             0 -ATGCT-TACGTCAGGGGA-AACACACT--GACTGCA 32\n",
            "\n",
            "alignment score: 29.0\n",
            "target            0 TATGCTGTACGTC-GG-GAT-ACACACTGTGACTGCA 34\n",
            "                  0 -|||||-||||||-||-||--|||||||--||||||| 37\n",
            "query             0 -ATGCT-TACGTCAGGGGA-AACACACT--GACTGCA 32\n",
            "\n",
            "alignment score: 29.0\n",
            "target            0 TATGCTGTACGTC-G-GGAT-ACACACTGTGACTGCA 34\n",
            "                  0 -|||||-||||||-|-|||--|||||||--||||||| 37\n",
            "query             0 -ATGCT-TACGTCAGGGGA-AACACACT--GACTGCA 32\n",
            "\n",
            "alignment score: 29.0\n",
            "target            0 TATGCTGTACGTC--GGGAT-ACACACTGTGACTGCA 34\n",
            "                  0 -|||||-||||||--||||--|||||||--||||||| 37\n",
            "query             0 -ATGCT-TACGTCAGGGGA-AACACACT--GACTGCA 32\n",
            "\n",
            "alignment score: 29.0\n",
            "target            0 TATGCTGTACGTC-GGG-A-TACACACTGTGACTGCA 34\n",
            "                  0 -|||||-||||||-|||-|--|||||||--||||||| 37\n",
            "query             0 -ATGCT-TACGTCAGGGGAA-ACACACT--GACTGCA 32\n",
            "\n",
            "alignment score: 29.0\n",
            "target            0 TATGCTGTACGTC-GG-GA-TACACACTGTGACTGCA 34\n",
            "                  0 -|||||-||||||-||-||--|||||||--||||||| 37\n",
            "query             0 -ATGCT-TACGTCAGGGGAA-ACACACT--GACTGCA 32\n",
            "\n",
            "alignment score: 29.0\n",
            "target            0 TATGCTGTACGTC-G-GGA-TACACACTGTGACTGCA 34\n",
            "                  0 -|||||-||||||-|-|||--|||||||--||||||| 37\n",
            "query             0 -ATGCT-TACGTCAGGGGAA-ACACACT--GACTGCA 32\n",
            "\n",
            "alignment score: 29.0\n",
            "target            0 TATGCTGTACGTC--GGGA-TACACACTGTGACTGCA 34\n",
            "                  0 -|||||-||||||--||||--|||||||--||||||| 37\n",
            "query             0 -ATGCT-TACGTCAGGGGAA-ACACACT--GACTGCA 32\n",
            "\n",
            "alignment score: 29.0\n",
            "target            0 TATGCTGTACGTC-GGG--ATACACACTGTGACTGCA 34\n",
            "                  0 -|||||-||||||-|||--|-|||||||--||||||| 37\n",
            "query             0 -ATGCT-TACGTCAGGGGAA-ACACACT--GACTGCA 32\n",
            "\n",
            "alignment score: 29.0\n",
            "target            0 TATGCTGTACGTC-GG-G-ATACACACTGTGACTGCA 34\n",
            "                  0 -|||||-||||||-||-|-|-|||||||--||||||| 37\n",
            "query             0 -ATGCT-TACGTCAGGGGAA-ACACACT--GACTGCA 32\n",
            "\n",
            "alignment score: 29.0\n",
            "target            0 TATGCTGTACGTC-G-GG-ATACACACTGTGACTGCA 34\n",
            "                  0 -|||||-||||||-|-||-|-|||||||--||||||| 37\n",
            "query             0 -ATGCT-TACGTCAGGGGAA-ACACACT--GACTGCA 32\n",
            "\n",
            "alignment score: 29.0\n",
            "target            0 TATGCTGTACGTC--GGG-ATACACACTGTGACTGCA 34\n",
            "                  0 -|||||-||||||--|||-|-|||||||--||||||| 37\n",
            "query             0 -ATGCT-TACGTCAGGGGAA-ACACACT--GACTGCA 32\n",
            "\n",
            "alignment score: 29.0\n",
            "target            0 TATGCTGTACGTC-GGG-ATACACACTGTGACTGCA 34\n",
            "                  0 -|||||-||||||-|||-|.|||||||--||||||| 36\n",
            "query             0 -ATGCT-TACGTCAGGGGAAACACACT--GACTGCA 32\n",
            "\n",
            "alignment score: 29.0\n",
            "target            0 TATGCTGTACGTC-GG-GATACACACTGTGACTGCA 34\n",
            "                  0 -|||||-||||||-||-||.|||||||--||||||| 36\n",
            "query             0 -ATGCT-TACGTCAGGGGAAACACACT--GACTGCA 32\n",
            "\n",
            "alignment score: 29.0\n",
            "target            0 TATGCTGTACGTC-G-GGATACACACTGTGACTGCA 34\n",
            "                  0 -|||||-||||||-|-|||.|||||||--||||||| 36\n",
            "query             0 -ATGCT-TACGTCAGGGGAAACACACT--GACTGCA 32\n",
            "\n",
            "alignment score: 29.0\n",
            "target            0 TATGCTGTACGTC--GGGATACACACTGTGACTGCA 34\n",
            "                  0 -|||||-||||||--||||.|||||||--||||||| 36\n",
            "query             0 -ATGCT-TACGTCAGGGGAAACACACT--GACTGCA 32\n",
            "\n",
            "alignment score: 29.0\n",
            "target            0 TATGCTGTACGTC-GGG-ATA-CACACTGTGACTGCA 34\n",
            "                  0 -|||||-||||||-|||-|-|-|||||--|||||||| 37\n",
            "query             0 -ATGCT-TACGTCAGGGGA-AACACAC--TGACTGCA 32\n",
            "\n",
            "alignment score: 29.0\n",
            "target            0 TATGCTGTACGTC-GG-GATA-CACACTGTGACTGCA 34\n",
            "                  0 -|||||-||||||-||-||-|-|||||--|||||||| 37\n",
            "query             0 -ATGCT-TACGTCAGGGGA-AACACAC--TGACTGCA 32\n",
            "\n",
            "alignment score: 29.0\n",
            "target            0 TATGCTGTACGTC-G-GGATA-CACACTGTGACTGCA 34\n",
            "                  0 -|||||-||||||-|-|||-|-|||||--|||||||| 37\n",
            "query             0 -ATGCT-TACGTCAGGGGA-AACACAC--TGACTGCA 32\n",
            "\n",
            "alignment score: 29.0\n",
            "target            0 TATGCTGTACGTC--GGGATA-CACACTGTGACTGCA 34\n",
            "                  0 -|||||-||||||--||||-|-|||||--|||||||| 37\n",
            "query             0 -ATGCT-TACGTCAGGGGA-AACACAC--TGACTGCA 32\n",
            "\n",
            "alignment score: 29.0\n",
            "target            0 TATGCTGTACGTC-GGG-AT-ACACACTGTGACTGCA 34\n",
            "                  0 -|||||-||||||-|||-|--||||||--|||||||| 37\n",
            "query             0 -ATGCT-TACGTCAGGGGA-AACACAC--TGACTGCA 32\n",
            "\n",
            "alignment score: 29.0\n",
            "target            0 TATGCTGTACGTC-GG-GAT-ACACACTGTGACTGCA 34\n",
            "                  0 -|||||-||||||-||-||--||||||--|||||||| 37\n",
            "query             0 -ATGCT-TACGTCAGGGGA-AACACAC--TGACTGCA 32\n",
            "\n",
            "alignment score: 29.0\n",
            "target            0 TATGCTGTACGTC-G-GGAT-ACACACTGTGACTGCA 34\n",
            "                  0 -|||||-||||||-|-|||--||||||--|||||||| 37\n",
            "query             0 -ATGCT-TACGTCAGGGGA-AACACAC--TGACTGCA 32\n",
            "\n",
            "alignment score: 29.0\n",
            "target            0 TATGCTGTACGTC--GGGAT-ACACACTGTGACTGCA 34\n",
            "                  0 -|||||-||||||--||||--||||||--|||||||| 37\n",
            "query             0 -ATGCT-TACGTCAGGGGA-AACACAC--TGACTGCA 32\n",
            "\n",
            "alignment score: 29.0\n",
            "target            0 TATGCTGTACGTC-GGG-A-TACACACTGTGACTGCA 34\n",
            "                  0 -|||||-||||||-|||-|--||||||--|||||||| 37\n",
            "query             0 -ATGCT-TACGTCAGGGGAA-ACACAC--TGACTGCA 32\n",
            "\n",
            "alignment score: 29.0\n",
            "target            0 TATGCTGTACGTC-GG-GA-TACACACTGTGACTGCA 34\n",
            "                  0 -|||||-||||||-||-||--||||||--|||||||| 37\n",
            "query             0 -ATGCT-TACGTCAGGGGAA-ACACAC--TGACTGCA 32\n",
            "\n",
            "alignment score: 29.0\n",
            "target            0 TATGCTGTACGTC-G-GGA-TACACACTGTGACTGCA 34\n",
            "                  0 -|||||-||||||-|-|||--||||||--|||||||| 37\n",
            "query             0 -ATGCT-TACGTCAGGGGAA-ACACAC--TGACTGCA 32\n",
            "\n",
            "alignment score: 29.0\n",
            "target            0 TATGCTGTACGTC--GGGA-TACACACTGTGACTGCA 34\n",
            "                  0 -|||||-||||||--||||--||||||--|||||||| 37\n",
            "query             0 -ATGCT-TACGTCAGGGGAA-ACACAC--TGACTGCA 32\n",
            "\n",
            "alignment score: 29.0\n",
            "target            0 TATGCTGTACGTC-GGG--ATACACACTGTGACTGCA 34\n",
            "                  0 -|||||-||||||-|||--|-||||||--|||||||| 37\n",
            "query             0 -ATGCT-TACGTCAGGGGAA-ACACAC--TGACTGCA 32\n",
            "\n",
            "alignment score: 29.0\n",
            "target            0 TATGCTGTACGTC-GG-G-ATACACACTGTGACTGCA 34\n",
            "                  0 -|||||-||||||-||-|-|-||||||--|||||||| 37\n",
            "query             0 -ATGCT-TACGTCAGGGGAA-ACACAC--TGACTGCA 32\n",
            "\n",
            "alignment score: 29.0\n",
            "target            0 TATGCTGTACGTC-G-GG-ATACACACTGTGACTGCA 34\n",
            "                  0 -|||||-||||||-|-||-|-||||||--|||||||| 37\n",
            "query             0 -ATGCT-TACGTCAGGGGAA-ACACAC--TGACTGCA 32\n",
            "\n",
            "alignment score: 29.0\n",
            "target            0 TATGCTGTACGTC--GGG-ATACACACTGTGACTGCA 34\n",
            "                  0 -|||||-||||||--|||-|-||||||--|||||||| 37\n",
            "query             0 -ATGCT-TACGTCAGGGGAA-ACACAC--TGACTGCA 32\n",
            "\n",
            "alignment score: 29.0\n",
            "target            0 TATGCTGTACGTC-GGG-ATACACACTGTGACTGCA 34\n",
            "                  0 -|||||-||||||-|||-|.||||||--|||||||| 36\n",
            "query             0 -ATGCT-TACGTCAGGGGAAACACAC--TGACTGCA 32\n",
            "\n",
            "alignment score: 29.0\n",
            "target            0 TATGCTGTACGTC-GG-GATACACACTGTGACTGCA 34\n",
            "                  0 -|||||-||||||-||-||.||||||--|||||||| 36\n",
            "query             0 -ATGCT-TACGTCAGGGGAAACACAC--TGACTGCA 32\n",
            "\n",
            "alignment score: 29.0\n",
            "target            0 TATGCTGTACGTC-G-GGATACACACTGTGACTGCA 34\n",
            "                  0 -|||||-||||||-|-|||.||||||--|||||||| 36\n",
            "query             0 -ATGCT-TACGTCAGGGGAAACACAC--TGACTGCA 32\n",
            "\n",
            "alignment score: 29.0\n",
            "target            0 TATGCTGTACGTC--GGGATACACACTGTGACTGCA 34\n",
            "                  0 -|||||-||||||--||||.||||||--|||||||| 36\n",
            "query             0 -ATGCT-TACGTCAGGGGAAACACAC--TGACTGCA 32\n",
            "\n"
          ]
        }
      ],
      "source": [
        "from Bio import Align\n",
        "from Bio.Seq import Seq\n",
        "\n",
        "# Define two DNA sequences - Note that this is just a very simplified version of the sequence file input from above\n",
        "seq1 = Seq(\"TATGCTGTACGTCGGGATACACACTGTGACTGCA\")\n",
        "seq2 = Seq(\"ATGCTTACGTCAGGGGAAACACACTGACTGCA\")\n",
        "\n",
        "aligner = Align.PairwiseAligner()\n",
        "\n",
        "# Perform pairwise alignment\n",
        "alignments = aligner.align(seq1, seq2)\n",
        "\n",
        "for a in alignments:\n",
        "    print(\"alignment score:\", a.score)\n",
        "    print(a)\n",
        "\n"
      ]
    },
    {
      "cell_type": "markdown",
      "metadata": {
        "id": "EAeyTtLiW4Vf"
      },
      "source": [
        "It actually has more data in that object than we just saw and many modifiable variables. This is a simple object but they can grow to contain a huge amount of parameters and variables.\n",
        "\n",
        "## Pyhlogenetics\n",
        "\n",
        "Lets look at a phylogenetic example and draw a tree:"
      ]
    },
    {
      "cell_type": "code",
      "execution_count": null,
      "metadata": {
        "id": "i1JXyodLVFn8"
      },
      "outputs": [],
      "source": [
        "from Bio import Phylo\n",
        "\n",
        "# Read a Newick tree file\n",
        "tree = Phylo.read(\"/content/primates.nwk\", \"newick\")\n",
        "\n",
        "# Print tree\n",
        "Phylo.draw_ascii(tree)"
      ]
    },
    {
      "cell_type": "markdown",
      "metadata": {
        "id": "g9MIERxaXSA-"
      },
      "source": [
        "Really, I like this module just because it's cool to see a tree represented so cleanly, but also shows how simple it is to handle data if there is a module that already understands the format.\n",
        "\n",
        "But be sure to note, the format of this data object is very different to the sequence object from the last example. Modules such as Biopython are very varied behind the scenes with complex classes, but can be interacted with simply."
      ]
    },
    {
      "cell_type": "code",
      "execution_count": null,
      "metadata": {
        "id": "E6gZhQirWzU-"
      },
      "outputs": [],
      "source": [
        "print(tree)"
      ]
    },
    {
      "cell_type": "markdown",
      "metadata": {
        "id": "bAL4Zu7xYxgR"
      },
      "source": [
        "Before we move on lets draw it with matplotlib and also use the ```.common_ancestor()``` function that comes with the phylo module."
      ]
    },
    {
      "cell_type": "code",
      "execution_count": null,
      "metadata": {
        "id": "UiFxQQNjYdjw"
      },
      "outputs": [],
      "source": [
        "from Bio import Phylo\n",
        "\n",
        "# Read a Newick tree file\n",
        "tree = Phylo.read(\"/content/primates.nwk\", \"newick\")\n",
        "tree = tree.as_phyloxml()\n",
        "\n",
        "# Set labeled nodes\n",
        "mcra = tree.common_ancestor({\"name\": \"Human\"}, {\"name\": \"Gorilla\"})\n",
        "mcra.color = \"red\"\n",
        "\n",
        "Phylo.draw(tree)"
      ]
    },
    {
      "cell_type": "markdown",
      "metadata": {
        "id": "-a-r5D6wn0O0"
      },
      "source": [
        "<details>\n",
        "<summary>Honestly, I just think it's neat!</summary>\n",
        "\n",
        "![neat](https://github.com/thefishgal/PracticalPythonProgrammingForBiologists/blob/main/Day3/neat.png?raw=1)\n",
        "\n",
        "</details>"
      ]
    },
    {
      "cell_type": "markdown",
      "metadata": {
        "id": "5bPTZfmAqT9p"
      },
      "source": [
        "### Alignment into Phylogenetics example\n",
        "\n",
        "Doing a larger multiple sequence alignment and putting it into a tree takes more steps but is quite effective! Here's just a demonstration from our CO1 genes above."
      ]
    },
    {
      "cell_type": "code",
      "execution_count": null,
      "metadata": {
        "id": "DpTl4KCMqT9p",
        "outputId": "efdc3ed5-c6e0-4719-f766-f8bb4ae56e78"
      },
      "outputs": [
        {
          "ename": "FileNotFoundError",
          "evalue": "[Errno 2] No such file or directory: '/content/co1_sequences.fasta'",
          "output_type": "error",
          "traceback": [
            "\u001b[1;31m---------------------------------------------------------------------------\u001b[0m",
            "\u001b[1;31mFileNotFoundError\u001b[0m                         Traceback (most recent call last)",
            "Cell \u001b[1;32mIn[9], line 7\u001b[0m\n\u001b[0;32m      4\u001b[0m \u001b[38;5;28;01mfrom\u001b[39;00m \u001b[38;5;21;01mBio\u001b[39;00m\u001b[38;5;21;01m.\u001b[39;00m\u001b[38;5;21;01mPhylo\u001b[39;00m\u001b[38;5;21;01m.\u001b[39;00m\u001b[38;5;21;01mTreeConstruction\u001b[39;00m \u001b[38;5;28;01mimport\u001b[39;00m DistanceCalculator, DistanceTreeConstructor\n\u001b[0;32m      6\u001b[0m All_co1s \u001b[38;5;241m=\u001b[39m []\n\u001b[1;32m----> 7\u001b[0m \u001b[38;5;28;01mfor\u001b[39;00m seq_record \u001b[38;5;129;01min\u001b[39;00m \u001b[43mSeqIO\u001b[49m\u001b[38;5;241;43m.\u001b[39;49m\u001b[43mparse\u001b[49m\u001b[43m(\u001b[49m\u001b[38;5;124;43m\"\u001b[39;49m\u001b[38;5;124;43m/content/co1_sequences.fasta\u001b[39;49m\u001b[38;5;124;43m\"\u001b[39;49m\u001b[43m,\u001b[49m\u001b[43m \u001b[49m\u001b[38;5;124;43m\"\u001b[39;49m\u001b[38;5;124;43mfasta\u001b[39;49m\u001b[38;5;124;43m\"\u001b[39;49m\u001b[43m)\u001b[49m:    \n\u001b[0;32m      8\u001b[0m     All_co1s\u001b[38;5;241m.\u001b[39mappend(seq_record[:\u001b[38;5;241m700\u001b[39m])\n\u001b[0;32m     10\u001b[0m \u001b[38;5;66;03m# Align sequences (Really basic - in reality use an external program i.e. clustalW)\u001b[39;00m\n",
            "File \u001b[1;32mc:\\Users\\danie\\AppData\\Local\\Programs\\Python\\Python311\\Lib\\site-packages\\Bio\\SeqIO\\__init__.py:605\u001b[0m, in \u001b[0;36mparse\u001b[1;34m(handle, format, alphabet)\u001b[0m\n\u001b[0;32m    603\u001b[0m iterator_generator \u001b[38;5;241m=\u001b[39m _FormatToIterator\u001b[38;5;241m.\u001b[39mget(\u001b[38;5;28mformat\u001b[39m)\n\u001b[0;32m    604\u001b[0m \u001b[38;5;28;01mif\u001b[39;00m iterator_generator:\n\u001b[1;32m--> 605\u001b[0m     \u001b[38;5;28;01mreturn\u001b[39;00m \u001b[43miterator_generator\u001b[49m\u001b[43m(\u001b[49m\u001b[43mhandle\u001b[49m\u001b[43m)\u001b[49m\n\u001b[0;32m    606\u001b[0m \u001b[38;5;28;01mif\u001b[39;00m \u001b[38;5;28mformat\u001b[39m \u001b[38;5;129;01min\u001b[39;00m AlignIO\u001b[38;5;241m.\u001b[39m_FormatToIterator:\n\u001b[0;32m    607\u001b[0m     \u001b[38;5;66;03m# Use Bio.AlignIO to read in the alignments\u001b[39;00m\n\u001b[0;32m    608\u001b[0m     \u001b[38;5;28;01mreturn\u001b[39;00m (r \u001b[38;5;28;01mfor\u001b[39;00m alignment \u001b[38;5;129;01min\u001b[39;00m AlignIO\u001b[38;5;241m.\u001b[39mparse(handle, \u001b[38;5;28mformat\u001b[39m) \u001b[38;5;28;01mfor\u001b[39;00m r \u001b[38;5;129;01min\u001b[39;00m alignment)\n",
            "File \u001b[1;32mc:\\Users\\danie\\AppData\\Local\\Programs\\Python\\Python311\\Lib\\site-packages\\Bio\\SeqIO\\FastaIO.py:223\u001b[0m, in \u001b[0;36mFastaIterator.__init__\u001b[1;34m(self, source, alphabet, title2ids)\u001b[0m\n\u001b[0;32m    204\u001b[0m     warnings\u001b[38;5;241m.\u001b[39mwarn(\n\u001b[0;32m    205\u001b[0m         \u001b[38;5;124m\"\u001b[39m\u001b[38;5;124mThe title2ids argument is deprecated. Instead, please use a \u001b[39m\u001b[38;5;124m\"\u001b[39m\n\u001b[0;32m    206\u001b[0m         \u001b[38;5;124m\"\u001b[39m\u001b[38;5;124mgenerator function to modify records returned by the parser. \u001b[39m\u001b[38;5;124m\"\u001b[39m\n\u001b[1;32m   (...)\u001b[0m\n\u001b[0;32m    220\u001b[0m         BiopythonDeprecationWarning,\n\u001b[0;32m    221\u001b[0m     )\n\u001b[0;32m    222\u001b[0m \u001b[38;5;28mself\u001b[39m\u001b[38;5;241m.\u001b[39mtitle2ids \u001b[38;5;241m=\u001b[39m title2ids\n\u001b[1;32m--> 223\u001b[0m \u001b[38;5;28;43msuper\u001b[39;49m\u001b[43m(\u001b[49m\u001b[43m)\u001b[49m\u001b[38;5;241;43m.\u001b[39;49m\u001b[38;5;21;43m__init__\u001b[39;49m\u001b[43m(\u001b[49m\u001b[43msource\u001b[49m\u001b[43m,\u001b[49m\u001b[43m \u001b[49m\u001b[43mmode\u001b[49m\u001b[38;5;241;43m=\u001b[39;49m\u001b[38;5;124;43m\"\u001b[39;49m\u001b[38;5;124;43mt\u001b[39;49m\u001b[38;5;124;43m\"\u001b[39;49m\u001b[43m,\u001b[49m\u001b[43m \u001b[49m\u001b[43mfmt\u001b[49m\u001b[38;5;241;43m=\u001b[39;49m\u001b[38;5;124;43m\"\u001b[39;49m\u001b[38;5;124;43mFasta\u001b[39;49m\u001b[38;5;124;43m\"\u001b[39;49m\u001b[43m)\u001b[49m\n",
            "File \u001b[1;32mc:\\Users\\danie\\AppData\\Local\\Programs\\Python\\Python311\\Lib\\site-packages\\Bio\\SeqIO\\Interfaces.py:45\u001b[0m, in \u001b[0;36mSequenceIterator.__init__\u001b[1;34m(self, source, alphabet, mode, fmt)\u001b[0m\n\u001b[0;32m     43\u001b[0m     \u001b[38;5;28;01mraise\u001b[39;00m \u001b[38;5;167;01mValueError\u001b[39;00m(\u001b[38;5;124m\"\u001b[39m\u001b[38;5;124mThe alphabet argument is no longer supported\u001b[39m\u001b[38;5;124m\"\u001b[39m)\n\u001b[0;32m     44\u001b[0m \u001b[38;5;28;01mtry\u001b[39;00m:\n\u001b[1;32m---> 45\u001b[0m     \u001b[38;5;28mself\u001b[39m\u001b[38;5;241m.\u001b[39mstream \u001b[38;5;241m=\u001b[39m \u001b[38;5;28;43mopen\u001b[39;49m\u001b[43m(\u001b[49m\u001b[43msource\u001b[49m\u001b[43m,\u001b[49m\u001b[43m \u001b[49m\u001b[38;5;124;43m\"\u001b[39;49m\u001b[38;5;124;43mr\u001b[39;49m\u001b[38;5;124;43m\"\u001b[39;49m\u001b[43m \u001b[49m\u001b[38;5;241;43m+\u001b[39;49m\u001b[43m \u001b[49m\u001b[43mmode\u001b[49m\u001b[43m)\u001b[49m\n\u001b[0;32m     46\u001b[0m     \u001b[38;5;28mself\u001b[39m\u001b[38;5;241m.\u001b[39mshould_close_stream \u001b[38;5;241m=\u001b[39m \u001b[38;5;28;01mTrue\u001b[39;00m\n\u001b[0;32m     47\u001b[0m \u001b[38;5;28;01mexcept\u001b[39;00m \u001b[38;5;167;01mTypeError\u001b[39;00m:  \u001b[38;5;66;03m# not a path, assume we received a stream\u001b[39;00m\n",
            "\u001b[1;31mFileNotFoundError\u001b[0m: [Errno 2] No such file or directory: '/content/co1_sequences.fasta'"
          ]
        }
      ],
      "source": [
        "from Bio import SeqIO\n",
        "from Bio.Align import MultipleSeqAlignment\n",
        "from Bio import Phylo\n",
        "from Bio.Phylo.TreeConstruction import DistanceCalculator, DistanceTreeConstructor\n",
        "\n",
        "All_co1s = []\n",
        "for seq_record in SeqIO.parse(\"/content/co1_sequences.fasta\", \"fasta\"):\n",
        "    All_co1s.append(seq_record[:700])\n",
        "\n",
        "# Align sequences (Really basic - in reality use an external program i.e. clustalW)\n",
        "aligned_seqs = MultipleSeqAlignment(All_co1s)\n",
        "print(aligned_seqs)\n",
        "\n",
        "# Calculate the distance matrix\n",
        "calculator = DistanceCalculator('identity')\n",
        "dm = calculator.get_distance(aligned_seqs)\n",
        "\n",
        "# Construct the phylogenetic tree using UPGMA\n",
        "constructor = DistanceTreeConstructor()\n",
        "tree = constructor.upgma(dm)\n",
        "\n",
        "# Hide internal labels\n",
        "for clade in tree.find_clades():\n",
        "    if not clade.is_terminal():\n",
        "        clade.name = None\n",
        "\n",
        "# Draw the tree\n",
        "Phylo.draw(tree)"
      ]
    },
    {
      "cell_type": "markdown",
      "metadata": {
        "id": "xJvVnk15qT9q"
      },
      "source": [
        "If wanting to use an external alignment program such as clustalW then can use this method to call, and read the outputs then continue the code (clustalW is required to be installed in your system first!)"
      ]
    },
    {
      "cell_type": "code",
      "execution_count": null,
      "metadata": {
        "id": "JgS8yMzpqT9q"
      },
      "outputs": [],
      "source": [
        "# Step 2: Run ClustalW alignment\n",
        "clustalw_cline = ClustalwCommandline(clustalw_exe, infile=in_file)\n",
        "stdout, stderr = clustalw_cline()\n",
        "\n",
        "# Step 3: Read the aligned sequences\n",
        "aligned_seqs = AlignIO.read(\"example.aln\", \"clustal\")  # The output file generated by ClustalW\n"
      ]
    }
  ],
  "metadata": {
    "colab": {
      "provenance": []
    },
    "kernelspec": {
      "display_name": "Python 3",
      "name": "python3"
    },
    "language_info": {
      "codemirror_mode": {
        "name": "ipython",
        "version": 3
      },
      "file_extension": ".py",
      "mimetype": "text/x-python",
      "name": "python",
      "nbconvert_exporter": "python",
      "pygments_lexer": "ipython3",
      "version": "3.11.5"
    }
  },
  "nbformat": 4,
  "nbformat_minor": 0
}