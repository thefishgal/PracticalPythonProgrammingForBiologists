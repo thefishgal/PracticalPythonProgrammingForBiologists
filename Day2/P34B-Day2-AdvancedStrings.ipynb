{
  "cells": [
    {
      "cell_type": "markdown",
      "metadata": {
        "id": "j3HRoBNdGEeq"
      },
      "source": [
        "# Practical Python Programming for Biologists\n",
        "Author: Dr. Daniel Pass | www.CompassBioinformGAics.com\n",
        "\n",
        "---"
      ]
    },
    {
      "cell_type": "markdown",
      "metadata": {
        "id": "8od5eWO-FQKq"
      },
      "source": [
        "# String Methods\n",
        "There are a number of methods to manipulate strings. These are simple single-word methods to achive dificult (but often boring) tasks, but they can be incredibly useful. Some of these we have seen already as they are so common but lets see the full set:\n",
        "\n",
        "Cleaning and printing outputs\n",
        "* ```.strip()``` cleans off whitespace, or other noise from the beginning and end of a string (whitespace meaning spaces (\\s), tabs (\\t), or newlines (\\n))\n",
        "* ```.upper()```, ```.title()```, and ```.lower()``` adjust the casing of your string.\n",
        "\n",
        "Searching and modifying the string\n",
        "* ```.replace()``` replaces all instances of a character/string in a string with another character/string.\n",
        "* ```.find()``` searches a string for a character/string and returns the index value that character/string is found GA.\n",
        "\n",
        "Making/breaking lists\n",
        "* ```.split()``` takes a string and creates a list of substrings.\n",
        "* ```.join()``` takes a list of strings and creates a string.\n",
        "\n",
        "A few examples of them in action:"
      ]
    },
    {
      "cell_type": "code",
      "execution_count": null,
      "metadata": {
        "colab": {
          "base_uri": "https://localhost:8080/"
        },
        "id": "tNW2nFR0FVIF",
        "outputId": "040d29d1-f817-4ac4-c34d-157bfc37eeff"
      },
      "outputs": [
        {
          "name": "stdout",
          "output_type": "stream",
          "text": [
            "ATGTCGACCAATTCCTAACGACCAATGCTCGACCAACGGCaaaaaaaaaaaaaa\n",
            "~~~~~~\n",
            "ATGTCGACCAATTCCTAACGACCAATGCTCGACCAACGGCAAAAAAAAAAAAAA\n",
            "~~~~~~\n",
            "a study to show how one little bit of dna became a gene!\n",
            "~~~~~~\n",
            "\n",
            "  A Study To Show How One Little Bit Of Dna Became A Gene!   \n",
            "\n",
            "\n",
            "~~~~~~\n",
            "A Study To Show How One Little Bit Of Dna Became A Gene!\n"
          ]
        }
      ],
      "source": [
        "my_gene = \"ATGTCGACCAATTCCTAACGACCAATGCTCGACCAACGGCaaaaaaaaaaaaaa\"\n",
        "article = \"\\n  a study to show how one little bit of dna became a gene!   \\n\\n\"\n",
        "\n",
        "print(my_gene)\n",
        "print(\"~~~~~~\")\n",
        "\n",
        "# Format strings\n",
        "print(my_gene.upper())\n",
        "print(\"~~~~~~\")\n",
        "print(article.strip())\n",
        "print(\"~~~~~~\")\n",
        "print(article.title())\n",
        "print(\"~~~~~~\")\n",
        "print(article.strip().title())"
      ]
    },
    {
      "cell_type": "markdown",
      "metadata": {
        "id": "7xU93E2GR6Di"
      },
      "source": [
        "Lets use ```.split()``` to separate out the DNA code. We can use anything as a split delimeter (usually a comma (```,```) or tab (```\\t```) character) but here lets be bioinformatic and use a stop codon:"
      ]
    },
    {
      "cell_type": "code",
      "execution_count": null,
      "metadata": {
        "id": "ZKk7QsG4qmqh",
        "outputId": "b93d28a8-d9c5-43ad-f888-e8ff7052ddc8"
      },
      "outputs": [
        {
          "name": "stdout",
          "output_type": "stream",
          "text": [
            "['ATGT', 'CCAATTCCTAA', 'CCAATGCT', 'CCAACGGCaaaaaaaaaaaaaa']\n"
          ]
        }
      ],
      "source": [
        "# Split the sequence at the stop codon\n",
        "splitted_gene = my_gene.split(\"CGA\")\n",
        "print(splitted_gene)"
      ]
    },
    {
      "cell_type": "code",
      "execution_count": null,
      "metadata": {
        "colab": {
          "base_uri": "https://localhost:8080/"
        },
        "id": "gz2bmOreR36C",
        "outputId": "2bb6ff45-e32f-4d15-bfcc-7cab2a46c86a"
      },
      "outputs": [
        {
          "name": "stdout",
          "output_type": "stream",
          "text": [
            "CCAATTCCTAA\n",
            "CCAAUUCCUAA\n",
            "CCAATTCCTAA\n"
          ]
        }
      ],
      "source": [
        "# Output the second element\n",
        "middle_CDS = splitted_gene[1]\n",
        "print(middle_CDS)\n",
        "\n",
        "# For fun let's use the replace function to convert to RNA\n",
        "converted_middle_CDS = middle_CDS.replace(\"T\", \"U\")\n",
        "print(converted_middle_CDS)\n",
        "\n",
        "# Note how the string stays the same and it modifies the output\n",
        "print(middle_CDS)"
      ]
    },
    {
      "cell_type": "markdown",
      "metadata": {
        "id": "h4TKhfNKEw4J"
      },
      "source": [
        "# Exercises"
      ]
    },
    {
      "cell_type": "markdown",
      "metadata": {
        "id": "K-cxvwK7qmqi"
      },
      "source": [
        "We have a collection of multiple sequence alignments but they are fragmented with lots of gaps.\n",
        "\n",
        "1. Create a loop to go through the dictionary of sequences Use ```.split()``` to cut each sequence where there are gaps indicated by ```-``` characters\n",
        "2. Output the longest fragment from each sequence, and it's length. You could do this using a loop (for each fragment, ```if length > previous``` ....)\n",
        "2. Print the average length of each fragment - This may be more dificult than first imagined. Why? How could you solve that?\n",
        "\n",
        "**Extension:** There are some more advanced functions that can be more helpful (and often faster) than running loops:\n",
        " - ```max(list, key=len)``` allows you to calculate the longest string in a list. Try replacing your internal loop with that!\n",
        "- ```filter(None, list)``` which  can be used to remove empty strings from a list (using a loop is fine too)"
      ]
    },
    {
      "cell_type": "code",
      "execution_count": 10,
      "metadata": {
        "id": "qBB0RvH-qmqi",
        "outputId": "18a2dc71-dbef-4c76-d149-8b96f1c0120b",
        "colab": {
          "base_uri": "https://localhost:8080/"
        }
      },
      "outputs": [
        {
          "output_type": "stream",
          "name": "stdout",
          "text": [
            "{'ID1': 'TTTCAAGATCCTGCAACACCAGT--TATGGAAGGTATTATAA--ACTTTCATCATGATTTAATGTTTTTTTTAATTATTGTAACTGTTTTTGGATGTTATTTAGAGTTATTATTCTTGTTTTG---AAAAAAAAAATCC', 'ID2': 'TTTCAAGA-TCCTGACAACACCAGTTATGGAAGGTATTATAAACTTTCATCATGATTTAATGTTTTTTTTAAT-------GTTTTTGTTTGTTGGATGTTATTTATATT--TCAAAATTTTTGATGAAAAAAAAAATCC', 'ID3': 'TTTCAAGATCCTGCA--ACACCATTGTTATGGAAGGTATTATAAACTTTCATCATGATTATGTTTTTTTTAATTATTGTA-------TGTGGTGGATGTTA-TTTAGAGTTATTATTCTTTTTGATGAAAAAAAAAATCC', 'ID4': 'TTTCAAGCTGCAACACCAGGTTATGGAAGGTATTATA-AACTAATTCATCATGATTTAATGT--TTTTTTTAGATTATTGTAACTGTTTTTAGTTTGTTGGATGTTA---ATTATTCTTTGTTGATGA---AAAAAATCC', 'ID5': 'TTTCAAGATCCTGCAACACCAGTTATGGAAGGTGGATTATAAACTTTCATCATGATTTAATGTTTTT-TTAATTATTGTAACTGTTTATTGTTGGATGTTATTTAGAGTTATTATTCTTTTTGATGAAAAAAAAAATCC'}\n",
            "ID1\n",
            "ID2\n",
            "ID3\n",
            "ID4\n",
            "ID5\n",
            "\n",
            "[[67, 71]]\n",
            "\n"
          ]
        }
      ],
      "source": [
        "sequences = {\n",
        "    \"ID1\": \"TTTCAAGATCCTGCAACACCAGT--TATGGAAGGTATTATAA--ACTTTCATCATGATTTAATGTTTTTTTTAATTATTGTAACTGTTTTTGGATGTTATTTAGAGTTATTATTCTTGTTTTG---AAAAAAAAAATCC\",\n",
        "    \"ID2\": \"TTTCAAGA-TCCTGACAACACCAGTTATGGAAGGTATTATAAACTTTCATCATGATTTAATGTTTTTTTTAAT-------GTTTTTGTTTGTTGGATGTTATTTATATT--TCAAAATTTTTGATGAAAAAAAAAATCC\",\n",
        "    \"ID3\": \"TTTCAAGATCCTGCA--ACACCATTGTTATGGAAGGTATTATAAACTTTCATCATGATTATGTTTTTTTTAATTATTGTA-------TGTGGTGGATGTTA-TTTAGAGTTATTATTCTTTTTGATGAAAAAAAAAATCC\",\n",
        "    \"ID4\": \"TTTCAAGCTGCAACACCAGGTTATGGAAGGTATTATA-AACTAATTCATCATGATTTAATGT--TTTTTTTAGATTATTGTAACTGTTTTTAGTTTGTTGGATGTTA---ATTATTCTTTGTTGATGA---AAAAAATCC\",\n",
        "    \"ID5\": \"TTTCAAGATCCTGCAACACCAGTTATGGAAGGTGGATTATAAACTTTCATCATGATTTAATGTTTTT-TTAATTATTGTAACTGTTTATTGTTGGATGTTATTTAGAGTTATTATTCTTTTTGATGAAAAAAAAAATCC\",\n",
        "}\n",
        " #Create a loop to go through the dictionary of sequences Use .split() to cut each sequence where there are gaps indicated by - characters\n",
        "\n",
        " # Your code here\n",
        "print(sequences)\n",
        "\n",
        "all_frags = [] #creates all frags list\n",
        "\n",
        "for ID, seq in sequences.items():\n",
        "\n",
        "  print(ID)\n",
        "  fragments = seq.split(\"-\")\n",
        "\n",
        "  fragment_list = [] #creates the empty list\n",
        "\n",
        "  for frag in fragments:\n",
        "    if len(frag) >0:\n",
        "      fragment_list.append(len(frag))\n",
        "all_frags.append(fragment_list)\n",
        "print(\"\")\n",
        "\n",
        "print(all_frags)\n",
        "print(\"\")\n",
        "\n",
        "\n",
        "\n",
        "\n",
        ""
      ]
    }
  ],
  "metadata": {
    "colab": {
      "provenance": [],
      "toc_visible": true
    },
    "kernelspec": {
      "display_name": "Python 3",
      "name": "python3"
    },
    "language_info": {
      "codemirror_mode": {
        "name": "ipython",
        "version": 3
      },
      "file_extension": ".py",
      "mimetype": "text/x-python",
      "name": "python",
      "nbconvert_exporter": "python",
      "pygments_lexer": "ipython3",
      "version": "3.11.9"
    }
  },
  "nbformat": 4,
  "nbformat_minor": 0
}