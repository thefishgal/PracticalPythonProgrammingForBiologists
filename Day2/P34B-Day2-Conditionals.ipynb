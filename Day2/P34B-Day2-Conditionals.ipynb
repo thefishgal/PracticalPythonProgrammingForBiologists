{
  "cells": [
    {
      "cell_type": "markdown",
      "metadata": {
        "id": "6bLlQkRwJcqY"
      },
      "source": [
        "# Practical Python Programming for Biologists\n",
        "Author: Dr. Daniel Pass | www.CompassBioinformatics.com\n",
        "\n",
        "---"
      ]
    },
    {
      "cell_type": "markdown",
      "metadata": {
        "id": "_by8rrdQ4yC_"
      },
      "source": [
        "# The Big If!\n",
        "\n",
        "Lets take a break from loops for a moment to talk about conditionals. These are basically \"**if** this **then** that\" statements. They are also super powerful and allow us lots of control over our data and code.\n",
        "\n",
        "When working with numerical data it follows normal mathematical symbols:\n",
        "```\n",
        "if x > y:    print(\"x is greater than y\")\n",
        "if x < y:    print(\"x is less than y\")\n",
        "if x == y:   print(\"x is equal to y\")\n",
        "if x != y:   print(\"x is NOT equal to y\")\n",
        "if x >= y:   print(\"x is greater than or equal to y\")\n",
        "if x <= y:   print(\"x is less than or equal to y\")\n",
        "```\n",
        "\n",
        "Note the ```==``` for equals. A common mistake is to use just one ```=``` character but as we know that assigns a variable value instead.\n",
        "\n",
        "**Exercise:** Test which if statements print when you change the values"
      ]
    },
    {
      "cell_type": "code",
      "execution_count": 1,
      "metadata": {
        "id": "Rraq4b3pogPW",
        "outputId": "ac6c7bdf-11d6-48f1-d82f-9b46076bd718",
        "colab": {
          "base_uri": "https://localhost:8080/"
        }
      },
      "outputs": [
        {
          "output_type": "stream",
          "name": "stdout",
          "text": [
            "x is less than y\n",
            "x is NOT equal to y\n",
            "x is less than or equal to y\n"
          ]
        }
      ],
      "source": [
        "x = 5\n",
        "y = 10\n",
        "\n",
        "if x > y:    print(\"x is greater than y\")\n",
        "if x < y:    print(\"x is less than y\")\n",
        "if x == y:   print(\"x is equal to y\")\n",
        "if x != y:   print(\"x is NOT equal to y\")\n",
        "if x >= y:   print(\"x is greater than or equal to y\")\n",
        "if x <= y:   print(\"x is less than or equal to y\")"
      ]
    },
    {
      "cell_type": "markdown",
      "metadata": {
        "id": "8WG5V1B07NIU"
      },
      "source": [
        "Note: What we are really saying is  ```if x > y == True``` then do something, but we don't need to write the second part"
      ]
    },
    {
      "cell_type": "markdown",
      "metadata": {
        "id": "pt_Tjor2Bxaj"
      },
      "source": [
        "## Exercise - While and If\n",
        "\n",
        "Here we have a fastq style of DNA sequence - The bases themselves, and the quality of each base.\n",
        "\n",
        "1. Create a while loop to print both the base and the quality at each position\n",
        "2. Add an if statement to print only the bases where the quality is greater than 20 (What issue would happen with real data?)\n",
        "- Extension: plot a quick graph of the quality scores!"
      ]
    },
    {
      "cell_type": "code",
      "execution_count": 11,
      "metadata": {
        "id": "zsL_9VsbB1xG",
        "outputId": "4419301b-da7c-42de-9da6-0a415809daad",
        "colab": {
          "base_uri": "https://localhost:8080/",
          "height": 1000
        }
      },
      "outputs": [
        {
          "output_type": "stream",
          "name": "stdout",
          "text": [
            "T 31\n",
            "G 29\n",
            "G 29\n",
            "C 27\n",
            "C 27\n",
            "A 35\n",
            "A 35\n",
            "T 31\n",
            "T 31\n",
            "G 29\n",
            "G 29\n",
            "A 34\n",
            "A 34\n",
            "C 39\n",
            "C 39\n",
            "T 40\n",
            "T 40\n",
            "G 30\n",
            "G 30\n",
            "C 35\n",
            "C 35\n",
            "A 38\n",
            "A 38\n",
            "T 30\n",
            "T 30\n",
            "C 28\n",
            "C 28\n",
            "G 29\n",
            "G 29\n",
            "A 30\n",
            "A 30\n",
            "T 33\n",
            "T 33\n",
            "C 26\n",
            "C 26\n",
            "G 24\n",
            "G 24\n",
            "T 29\n",
            "T 29\n",
            "A 19\n",
            "C 11\n",
            "G 17\n",
            "A 16\n",
            "T 18\n",
            "C 17\n",
            "G 13\n",
            "A 11\n",
            "T 16\n",
            "C 19\n",
            "G 15\n",
            "A 3\n",
            "T 7\n",
            "C 15\n",
            "G 4\n",
            "A 10\n",
            "T 17\n"
          ]
        },
        {
          "output_type": "error",
          "ename": "IndexError",
          "evalue": "list index out of range",
          "traceback": [
            "\u001b[0;31m---------------------------------------------------------------------------\u001b[0m",
            "\u001b[0;31mIndexError\u001b[0m                                Traceback (most recent call last)",
            "\u001b[0;32m/tmp/ipython-input-3764472054.py\u001b[0m in \u001b[0;36m<cell line: 0>\u001b[0;34m()\u001b[0m\n\u001b[1;32m     13\u001b[0m \u001b[0;31m# above code prints the list and assigns indexing to bp 'sequence' and 'quality', from here I can ask it only to print index values >20\u001b[0m\u001b[0;34m\u001b[0m\u001b[0;34m\u001b[0m\u001b[0m\n\u001b[1;32m     14\u001b[0m \u001b[0;34m\u001b[0m\u001b[0m\n\u001b[0;32m---> 15\u001b[0;31m     \u001b[0;32mif\u001b[0m \u001b[0mquality\u001b[0m\u001b[0;34m[\u001b[0m\u001b[0mindex\u001b[0m\u001b[0;34m]\u001b[0m \u001b[0;34m>\u001b[0m \u001b[0;36m20\u001b[0m\u001b[0;34m:\u001b[0m\u001b[0;34m\u001b[0m\u001b[0;34m\u001b[0m\u001b[0m\n\u001b[0m\u001b[1;32m     16\u001b[0m       \u001b[0mprint\u001b[0m\u001b[0;34m(\u001b[0m\u001b[0msequence\u001b[0m\u001b[0;34m[\u001b[0m\u001b[0mindex\u001b[0m\u001b[0;34m]\u001b[0m\u001b[0;34m,\u001b[0m \u001b[0mquality\u001b[0m\u001b[0;34m[\u001b[0m\u001b[0mindex\u001b[0m\u001b[0;34m]\u001b[0m\u001b[0;34m)\u001b[0m\u001b[0;34m\u001b[0m\u001b[0;34m\u001b[0m\u001b[0m\n\u001b[1;32m     17\u001b[0m \u001b[0;34m\u001b[0m\u001b[0m\n",
            "\u001b[0;31mIndexError\u001b[0m: list index out of range"
          ]
        }
      ],
      "source": [
        "sequence = \"TGCATGACTGCATCGATCGTACGATCGATCGATCGAT\"\n",
        "quality = [31, 29, 27, 35, 31, 29, 34, 39, 40, 30, 35, 38, 30, 28, 29, 30, 33, 26, 24, 29, 19, 11, 17, 16, 18, 17, 13, 11, 16, 19, 15, 3, 7, 15, 4, 10, 17]\n",
        "\n",
        "#create index first.\n",
        "\n",
        "index = 0\n",
        "\n",
        "if len(sequence) == len(quality):\n",
        "  while index < len(sequence):\n",
        "    print(sequence[index], quality[index])\n",
        "    index += 1\n",
        "\n",
        "# above code prints the list and assigns indexing to bp 'sequence' and 'quality', from here I can ask it only to print index values >20\n",
        "\n",
        "    if quality[index] > 20:\n",
        "      print(sequence[index], quality[index])\n",
        "\n",
        "\n",
        "import matplotlib.pyplot as plt\n",
        "\n",
        "plt.plot(range(len(quality)), quality)\n",
        "plt.show()\n"
      ]
    },
    {
      "cell_type": "markdown",
      "metadata": {
        "id": "z6ByRCjkoyFv"
      },
      "source": [
        "---\n",
        "A more real example. Lets check if a single value is less than the a 0.05 significance threshold. Here we have a 2D list which is more complex, but we can access the elements of each list easily with double square brackets ```[ ][ ]```"
      ]
    },
    {
      "cell_type": "code",
      "execution_count": 13,
      "metadata": {
        "colab": {
          "base_uri": "https://localhost:8080/"
        },
        "id": "AWuYCYIHfazI",
        "outputId": "dc8079be-ebfa-4d94-ba8c-7d1abc206cce"
      },
      "outputs": [
        {
          "output_type": "stream",
          "name": "stdout",
          "text": [
            "TP53 has p<0.05\n"
          ]
        }
      ],
      "source": [
        "gene_data = [[\"TP53\", 0.0001],[\"BRCA1\", 0.002],[\"EGFR\", 0.15],[\"KRAS\", 0.00001],[\"MYC\", 0.05]]\n",
        "\n",
        "# If the value of the first list index (second element) is <0.05, then print the gene ID\n",
        "if gene_data[0][1] < 0.05:\n",
        "  print(gene_data[0][0], \"has p<0.05\")\n"
      ]
    },
    {
      "cell_type": "markdown",
      "metadata": {
        "id": "syi-ExdPgqhA"
      },
      "source": [
        "Now lets put that in a loop for all our genes\n",
        "(How could you re-write this code to use fewer lines?)"
      ]
    },
    {
      "cell_type": "code",
      "execution_count": 14,
      "metadata": {
        "colab": {
          "base_uri": "https://localhost:8080/"
        },
        "id": "cSlZKp4LgsXg",
        "outputId": "318126e6-328a-4c88-86c2-acc9c62d6eff"
      },
      "outputs": [
        {
          "output_type": "stream",
          "name": "stdout",
          "text": [
            "TP53 has p<0.05\n",
            "BRCA1 has p<0.05\n",
            "KRAS has p<0.05\n"
          ]
        }
      ],
      "source": [
        "for gene in gene_data:\n",
        "  geneID = gene[0]\n",
        "  geneValue = gene[1]\n",
        "\n",
        "  if geneValue < 0.05:\n",
        "    print(geneID, \"has p<0.05\")\n"
      ]
    },
    {
      "cell_type": "markdown",
      "metadata": {
        "id": "SpBIjrrAh9ZC"
      },
      "source": [
        "We can also use an if statement to search within a string. This is a very python-style type of writing as it is very simple and clear, where other languages may require more complexity for comparisons.\n",
        "\n",
        "Note that although it works nicely, there are more efficient ways to do this with larger datasets."
      ]
    },
    {
      "cell_type": "code",
      "execution_count": 15,
      "metadata": {
        "id": "qgK1Flrne3Di",
        "outputId": "2c68dd0e-d0fe-450a-d9d8-2de57c75db9c",
        "colab": {
          "base_uri": "https://localhost:8080/"
        }
      },
      "outputs": [
        {
          "output_type": "stream",
          "name": "stdout",
          "text": [
            "Motif found in the sequence\n"
          ]
        }
      ],
      "source": [
        "# Check if a DNA sequence contains a specific motif\n",
        "sequence = \"ATGCTGACTGACGTGAGCTAGCTAGCTAGCTAGCTG\"\n",
        "motif = \"GCTAG\"\n",
        "\n",
        "if motif in sequence:\n",
        "    print(\"Motif found in the sequence\")\n",
        "\n",
        "\n",
        "species = ['Arabidopsis', 'Bos taurus', 'C. elegans', 'Drosophila', 'E. coli']\n",
        "\n",
        "if \"Arabaaadopsis\" in species:\n",
        "    print(\"found it!\")\n"
      ]
    },
    {
      "cell_type": "markdown",
      "metadata": {
        "id": "HCRhRr6wqF8C"
      },
      "source": [
        "## if/else/elif\n",
        "\n",
        "Ifs are good, but what about if not? We can do that using ```else```"
      ]
    },
    {
      "cell_type": "code",
      "execution_count": null,
      "metadata": {
        "id": "MNpCyr_zqaED"
      },
      "outputs": [],
      "source": [
        "# Check if a DNA sequence length is divisible by 3\n",
        "sequence = \"ATGCTGACTGACGTGAGCTAGCTAGCTAGCTAGCTG\"\n",
        "\n",
        "if len(sequence) % 3 == 0:\n",
        "    print(\"The Open Reading Frame has complete codon usage\")\n",
        "else:\n",
        "    print(\"The Open Reading Frame does not have complete codons\")\n"
      ]
    },
    {
      "cell_type": "markdown",
      "metadata": {
        "id": "Mb1ipY2Sqrgs"
      },
      "source": [
        "We can then make it more complicated with elif (short for else-if)."
      ]
    },
    {
      "cell_type": "code",
      "execution_count": 16,
      "metadata": {
        "colab": {
          "base_uri": "https://localhost:8080/"
        },
        "id": "sh3x19ebe6sm",
        "outputId": "de50e414-5df2-44dd-e414-6791144ca8af"
      },
      "outputs": [
        {
          "output_type": "stream",
          "name": "stdout",
          "text": [
            "Short:\t ATCG\n",
            "Medium:\t GCTAGA\n",
            "Long:\t ACGAAAT\n",
            "Medium:\t TAGAC\n",
            "Short:\t CGAT\n",
            "Long:\t CTGATGGA\n",
            "Woah that's big! GTTCACTACGGAC\n",
            "Long:\t TGCGTTA\n",
            "Short:\t AGTC\n",
            "Long:\t CGGGAGT\n",
            "Medium:\t TATGCG\n",
            "Medium:\t GCATTG\n",
            "Woah that's big! ACCACACACACACACCCC\n"
          ]
        }
      ],
      "source": [
        "dna_motifs = [\"ATCG\", \"GCTAGA\", \"ACGAAAT\", \"TAGAC\", \"CGAT\", \"CTGATGGA\", \"GTTCACTACGGAC\", \"TGCGTTA\", \"AGTC\", \"CGGGAGT\", \"TATGCG\", \"GCATTG\", \"ACCACACACACACACCCC\"]\n",
        "\n",
        "for motif in dna_motifs:\n",
        "  if len(motif) <= 4:\n",
        "      print(\"Short:\\t\", motif)\n",
        "  elif len(motif) <= 6:\n",
        "      print(\"Medium:\\t\", motif)\n",
        "  elif len(motif) <= 8:\n",
        "      print(\"Long:\\t\", motif)\n",
        "  else:\n",
        "      print(\"Woah that's big!\", motif)\n"
      ]
    },
    {
      "cell_type": "markdown",
      "metadata": {
        "id": "Gf9iylyQN1Bw"
      },
      "source": [
        "We can access a dictionary in the same way. An ```if``` statement is a useful way to test if the key you are looking for exists. We have a dictionary of SampleIDs and their geographic locations.\n",
        "\n",
        "Often python is really helpful in it's simplicity because here it knows that asking \"if X in dictionary\" to check if it is in the keys and if true will come back and continue the statement (in a way that the .get() function doesn't)."
      ]
    },
    {
      "cell_type": "code",
      "execution_count": null,
      "metadata": {
        "id": "zIQ-iyddOCZf"
      },
      "outputs": [],
      "source": [
        "sample_locations = {\n",
        "    'DAP01': (40.7128, -74.0060),\n",
        "    'DAP02': (51.5074, -0.1278),\n",
        "    'DAP03': (48.8566, 2.3522),\n",
        "    'DAP05': (34.0522, -118.2437),\n",
        "    'DAP06': (35.6895, 139.6917)\n",
        "}\n",
        "\n",
        "sample_to_test = \"DAP04\"\n",
        "\n",
        "if sample_to_test in sample_locations:\n",
        "    print(sample_locations[sample_to_test])\n",
        "else:\n",
        "    print(\"That sample is missing\")"
      ]
    },
    {
      "cell_type": "markdown",
      "metadata": {
        "id": "vhBGH1mMtgUL"
      },
      "source": [
        "## AND/OR/NOT\n",
        "\n",
        "Just as we get our brains around ```ifs``` and ```elses```, we can also combine multiple together. This is useful for situations such as:\n",
        "\n",
        "- If gene binding site contains TATTA and is <100bp from TSS....\n",
        "- If sample count is >100 or in PIs favourite species list\n",
        "- If antibiotic resistance is present but not in my list of already tested....\n",
        "\n",
        "They're good examples, lets see what the code would look like:"
      ]
    },
    {
      "cell_type": "code",
      "execution_count": null,
      "metadata": {
        "id": "pSLhP0p0v55b"
      },
      "outputs": [],
      "source": [
        "# Sample TFBS sequences and their distances from TSS\n",
        "# Note the use of a tuple here for simplicity in the example.\n",
        "gene_binding_sites = [\n",
        "    (\"TFBS1\", \"CGTATTATCG\", 80),\n",
        "    (\"TFBS2\", \"ACGTATCGTATTA\", 120),\n",
        "    (\"TFBS3\", \"CTAGGTTA\", 90),\n",
        "    (\"TFBS4\", \"TATTACGTA\", 40),\n",
        "    (\"TFBS5\", \"ATGCTTACG\", 110)\n",
        "]\n",
        "\n",
        "# Loop over gene binding sites and check conditions\n",
        "for binding_site in gene_binding_sites:\n",
        "    # Using the special tuple assigning method\n",
        "    gene, sequence, distance = binding_site\n",
        "\n",
        "    if \"TATTA\" in sequence and distance < 100:\n",
        "        print(\"Gene\", gene, \"matches the conditions\")\n",
        "\n",
        "## Exercise - print only the genes which start with an A or C (there's a method named .startswith()) but are over 100 distance"
      ]
    },
    {
      "cell_type": "code",
      "execution_count": null,
      "metadata": {
        "id": "cOgNoMELxIVd"
      },
      "outputs": [],
      "source": [
        "# Sample data: animal names and their corresponding read counts\n",
        "animal_samples = [\n",
        "    (\"Lion\", 7500),\n",
        "    (\"Elephant\", 2100),\n",
        "    (\"Giraffe\", 1250),\n",
        "    (\"Tiger\", 950),\n",
        "    (\"Zebra\", 1800)\n",
        "]\n",
        "\n",
        "# List of PI's favorite species\n",
        "favorite_species = [\"Lion\", \"Giraffe\", \"Cheetah\"]\n",
        "\n",
        "# Iterate over animal samples and check conditions\n",
        "for animal, count in animal_samples:\n",
        "    if count > 2000 or animal in favorite_species:\n",
        "        print(\"Sample\", animal, \"matches the conditions\")"
      ]
    },
    {
      "cell_type": "code",
      "execution_count": null,
      "metadata": {
        "id": "EReDrNNfxhvM"
      },
      "outputs": [],
      "source": [
        "# antibiotics and resistance gene found\n",
        "antibiotics = [\n",
        "    (\"Amoxicillin\", True),\n",
        "    (\"Ciprofloxacin\", False),\n",
        "    (\"Gentamicin\", True),\n",
        "    (\"Tetracycline\", False),\n",
        "    (\"Vancomycin\", True)\n",
        "]\n",
        "\n",
        "already_tested = [\"Amoxicillin\", \"Ciprofloxacin\"]\n",
        "\n",
        "# Test if antibiotic is in the already_tested list\n",
        "print(\"Already testsed:\")\n",
        "for antibiotic_pair in antibiotics:\n",
        "  if antibiotic_pair[0] not in already_tested:\n",
        "    print(antibiotic_pair[0])\n",
        "\n",
        "print()\n",
        "# Test if resistance presence is known, AND NOT in already tested\n",
        "# Note the tuple assignment again\n",
        "for antibiotic, resistance in antibiotics:\n",
        "    if resistance and antibiotic not in already_tested:\n",
        "        print(\"Antibiotic\", antibiotic, \"matches the conditions\")"
      ]
    },
    {
      "cell_type": "markdown",
      "metadata": {
        "id": "OyjodSs3y2gl"
      },
      "source": [
        "## Exercises - ifs, buts, and maybes\n",
        "\n",
        "Lets practice. Make each statement indepentantly (they don't all connect together)\n",
        "\n",
        "1.   Print the genes with expression greater than 2\n",
        "2.   Print the genes with expression greater than 2 but less than 3\n",
        "3.   Print the genes with expression less than 1 or greater than 3, and print any other genes with the label \"medium\"\n",
        "4.   Print the genes with expression less than 2 but not called \"BRCA1\"\n",
        "5.   Print \"Low\", \"Medium\" or \"High\" based on if the value is <2, 2-3, or >3\n"
      ]
    },
    {
      "cell_type": "code",
      "execution_count": 24,
      "metadata": {
        "id": "zPq-SzUdzZAc",
        "outputId": "ee34aab4-bd06-4a6d-dae9-828d63c9093e",
        "colab": {
          "base_uri": "https://localhost:8080/"
        }
      },
      "outputs": [
        {
          "output_type": "stream",
          "name": "stdout",
          "text": [
            "TP53\n",
            "EGFR\n",
            "MYC\n",
            "CDKN2A\n",
            "RB1\n",
            "TP53\n",
            "MYC\n",
            "EGFR medium\n",
            "KRAS medium\n",
            "CDKN2A medium\n",
            "RB1 medium\n",
            "KRAS\n",
            "PTEN\n",
            "ERBB2\n",
            "TP53 Medium\n",
            "BRCA1 Low\n",
            "EGFR High\n",
            "KRAS Low\n",
            "MYC Medium\n",
            "PTEN Low\n",
            "CDKN2A High\n",
            "AKT1 Medium\n",
            "ERBB2 Low\n",
            "RB1 High\n"
          ]
        }
      ],
      "source": [
        "gene_expression = [(\"TP53\", 2.5), (\"BRCA1\", 1.8), (\"EGFR\", 3.2), (\"KRAS\", 0.9), (\"MYC\", 2.7), (\"PTEN\", 1.2), (\"CDKN2A\", 4.5), (\"AKT1\", 2.0), (\"ERBB2\", 1.5), (\"RB1\", 3.8)]\n",
        "\n",
        "#print genes with exp >2\n",
        "for gene, expression in gene_expression:\n",
        "  if expression > 2:\n",
        "    print(gene)\n",
        "\n",
        "#print >2, <3\n",
        "\n",
        "for gene, expression in gene_expression:\n",
        "    if expression > 2 and expression < 3:\n",
        "      print(gene)\n",
        "\n",
        "#<1, >3 assign \"med\"\n",
        "\n",
        "for gene, expression in gene_expression:\n",
        "  if expression < 1 or expression > 3:\n",
        "    print(gene, \"medium\")\n",
        "\n",
        "#,2, not \"BRCA1\"\n",
        "\n",
        "for gene, expression in gene_expression:\n",
        "  if expression < 2 and gene != \"BRCA1\":\n",
        "    print(gene)\n",
        "\n",
        "#Print \"Low\" 2, \"Medium\" 2-3, \"high\" >3\n",
        "\n",
        "for gene, expression in gene_expression:\n",
        "  if expression < 2:\n",
        "    print(gene, \"Low\")\n",
        "  elif expression <= 3:\n",
        "    print(gene, \"Medium\")\n",
        "  else:\n",
        "    print(gene, \"High\")"
      ]
    },
    {
      "cell_type": "markdown",
      "metadata": {
        "id": "ol-FPItjG42y"
      },
      "source": [
        "---\n",
        "## Advanced looping"
      ]
    },
    {
      "cell_type": "markdown",
      "metadata": {
        "id": "dMQeiv3YVTQP"
      },
      "source": [
        "### Loop control\n",
        "If we start running through a loop, it will continue to the end. If our objective is \"Do X for every item in list\" then that is good however, sometimes we don't want that to happen and once we have reached the data we want then we can stop, or skip that turn\n",
        "\n",
        "- ```continue``` - Move on to the next element in the loop immediately - don't do any more code on this itteration\n",
        "- ```break``` - Stop the loop right now, do no more processing"
      ]
    },
    {
      "cell_type": "code",
      "execution_count": null,
      "metadata": {
        "colab": {
          "base_uri": "https://localhost:8080/"
        },
        "id": "3y7vx0vUEQ5c",
        "outputId": "d7ebe1f4-6596-4f61-eff8-9b795ecb5ed7"
      },
      "outputs": [
        {
          "name": "stdout",
          "output_type": "stream",
          "text": [
            "Skipping HOX genes:\n",
            "RB1\n",
            "PIK3CA\n",
            "BRAF\n",
            "JAK2\n",
            "NOTCH1\n",
            "FLT3\n",
            "KRAS\n",
            "EGFR\n",
            "PTEN\n",
            "BRAF\n",
            "PIK3CA\n",
            "JAK2\n",
            "\n",
            "Stopping if I find HOX5:\n",
            "RB1\n",
            "PIK3CA\n",
            "BRAF\n",
            "HOX2\n",
            "JAK2\n"
          ]
        }
      ],
      "source": [
        "gene_list = [\"RB1\", \"PIK3CA\", \"BRAF\", \"HOX2\", \"JAK2\", \"HOX5\", \"NOTCH1\", \"FLT3\", \"KRAS\", \"EGFR\", \"PTEN\", \"HOX1\", \"BRAF\", \"PIK3CA\", \"HOX9\", \"JAK2\"]\n",
        "\n",
        "print(\"Skipping HOX genes:\")\n",
        "for gene in gene_list:\n",
        "    if \"HOX\" in gene:\n",
        "        # Don't do anything, just move on to next element\n",
        "        continue\n",
        "    print(gene)\n",
        "\n",
        "# Note here it stops before printing anything else on that loop\n",
        "print(\"\\nStopping if I find HOX5:\")\n",
        "for gene in gene_list:\n",
        "    if \"HOX5\" in gene:\n",
        "        # Stop the loop!\n",
        "        break\n",
        "    print(gene)\n"
      ]
    },
    {
      "cell_type": "markdown",
      "metadata": {
        "id": "1xQBECBVJ81M"
      },
      "source": [
        "## Exercise - Loop control\n",
        "\n",
        "When we did our quality filtering earlier, the data was designed to not raise above 20 after going below. But that's not realistic! Here is some more variable data.\n",
        "\n",
        "- Use your code from earlier (The While section) and include a ```break``` condition to stop looping when it first goes below 20"
      ]
    },
    {
      "cell_type": "code",
      "execution_count": null,
      "metadata": {
        "colab": {
          "base_uri": "https://localhost:8080/",
          "height": 430
        },
        "id": "BQlcbEDQJ8Y0",
        "outputId": "105829e0-0127-486d-c1f7-9087514d4289"
      },
      "outputs": [
        {
          "data": {
            "image/png": "[encoded data removed]",
            "text/plain": [
              "<Figure size 640x480 with 1 Axes>"
            ]
          },
          "metadata": {},
          "output_type": "display_data"
        }
      ],
      "source": [
        "sequence = \"TGCATGACTGCATCGATCGTACGATCGATCGATCGAT\"\n",
        "quality = [31, 29, 27, 35, 31, 29, 34, 39, 40, 30, 35, 38, 30, 28, 29, 30, 33, 26, 24, 29, 19, 11, 17, 16, 18, 17, 23, 21, 26, 29, 15, 3, 7, 15, 4, 10, 17]\n",
        "\n",
        "import matplotlib.pyplot as plt\n",
        "\n",
        "plt.plot(range(len(quality)), quality)\n",
        "plt.axhline(20, color = \"red\")\n",
        "plt.show()"
      ]
    },
    {
      "cell_type": "code",
      "execution_count": null,
      "metadata": {
        "colab": {
          "base_uri": "https://localhost:8080/"
        },
        "id": "Kyhv4vGvKZ6E",
        "outputId": "aaadca93-2d43-47dd-a7e4-6c39c9a77fef"
      },
      "outputs": [
        {
          "name": "stdout",
          "output_type": "stream",
          "text": [
            "Full: TGCATGACTGCATCGATCGTACGATCGATCGATCGAT\n",
            "Trim: TGCATGACTGCATCGATCGT\n"
          ]
        }
      ],
      "source": [
        "# Your code\n"
      ]
    },
    {
      "cell_type": "markdown",
      "metadata": {
        "id": "vfkv7KO9i7jp"
      },
      "source": [
        "# Exercise - Loops, lists, and ifs\n",
        "**Objective**: Take our list of genes and output the most up/down regulated genes with key information\n",
        "\n",
        "This exercise is the most dificult we've done and will need you to use lists, loops, ifs, and dictionaries! It is not supposed to be simple and probably will take 10-20 minutes.\n",
        "\n",
        "Suggested steps:\n",
        "\n",
        "1.   Make empty lists for your up/down gene lists\n",
        "2.   Make a loop to run through the list of gene expression values and use if/else to build your lists\n",
        "3.   Itterate through your new lists and use the dictionary to report if they have been qPCR tested\n",
        "4.   Output in a clean text format such as:\n",
        "\n",
        "\"Here we tested X genes resulting in Y upregulated and Z downregulated. qPCR confirmed A and B respectively. Here is the full list:\"\n",
        "\n",
        "\n",
        "**Extension:** Filter the data to greater than +/- 2 expression. What % of genes are removed by this filter?\n"
      ]
    },
    {
      "cell_type": "code",
      "execution_count": null,
      "metadata": {
        "id": "rLd2P31djxtx"
      },
      "outputs": [],
      "source": [
        "# Data for your analysis\n",
        "gene_list = [\"TP53\", \"BRCA1\", \"EGFR\", \"KRAS\", \"MYC\", \"PTEN\", \"CDKN2A\", \"AKT1\", \"ERBB2\", \"RB1\", \"PIK3CA\", \"BRAF\", \"MET\", \"JAK2\", \"MAPK1\", \"NOTCH1\", \"FLT3\", \"KRAS\", \"EGFR\", \"PTEN\", \"TP53\", \"BRAF\", \"PIK3CA\", \"MYC\", \"ERBB2\", \"RB1\", \"AKT1\", \"CDKN2A\", \"MAPK1\", \"JAK2\"]\n",
        "gene_exp = [['TP53', -1.4245], ['BRCA1', 4.0941], ['EGFR', 1.8266], ['KRAS', -0.8996], ['MYC', -2.1188], ['PTEN', -1.8499], ['CDKN2A', 4.2798], ['AKT1', 0.4709], ['ERBB2', 2.144], ['RB1', 4.7541], ['PIK3CA', 2.6291], ['BRAF', 2.1514], ['MET', 0.2558], ['JAK2', 5.0332], ['MAPK1', 5.295], ['NOTCH1', 2.5695], ['FLT3', 5.3211], ['KRAS', 3.064], ['EGFR', 0.1768], ['PTEN', -0.4923], ['TP53', -4.7796], ['BRAF', -3.8257], ['PIK3CA', 0.3357], ['MYC', -0.0917], ['ERBB2', -3.2586], ['RB1', -0.7903], ['AKT1', 0.6729], ['CDKN2A', 5.8131], ['MAPK1', -4.9549], ['JAK2', -0.936]]\n",
        "qPCR_status = {'TP53': False, 'BRCA1': False, 'EGFR': True, 'KRAS': False, 'MYC': True, 'PTEN': True, 'CDKN2A': False, 'AKT1': True, 'ERBB2': False, 'RB1': False, 'PIK3CA': True, 'BRAF': False, 'MET': False, 'JAK2': True, 'MAPK1': False, 'NOTCH1': False, 'FLT3': True}\n"
      ]
    },
    {
      "cell_type": "code",
      "execution_count": null,
      "metadata": {
        "id": "fOLCM_TIjTha",
        "outputId": "e94c3d02-ec7c-4c27-a38e-29613906fcec"
      },
      "outputs": [
        {
          "name": "stdout",
          "output_type": "stream",
          "text": [
            "Here we tested 30 genes resulting in 18 upregulated and 12 downregulated. qPCR confirmed 8 and 5 respectively.\n",
            "Here is the full list:\n",
            "\n",
            "qPCR confirmed upregulated genes\n",
            "EGFR\n",
            "AKT1\n",
            "PIK3CA\n",
            "JAK2\n",
            "FLT3\n",
            "EGFR\n",
            "PIK3CA\n",
            "AKT1\n",
            "\n",
            "qPCR confirmed downregulated genes\n",
            "MYC\n",
            "PTEN\n",
            "PTEN\n",
            "MYC\n",
            "JAK2\n"
          ]
        }
      ],
      "source": [
        "# Your code here\n"
      ]
    }
  ],
  "metadata": {
    "colab": {
      "provenance": []
    },
    "kernelspec": {
      "display_name": "Python 3",
      "name": "python3"
    },
    "language_info": {
      "codemirror_mode": {
        "name": "ipython",
        "version": 3
      },
      "file_extension": ".py",
      "mimetype": "text/x-python",
      "name": "python",
      "nbconvert_exporter": "python",
      "pygments_lexer": "ipython3",
      "version": "3.11.5"
    }
  },
  "nbformat": 4,
  "nbformat_minor": 0
}